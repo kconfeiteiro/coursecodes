{
 "cells": [
  {
   "cell_type": "markdown",
   "metadata": {},
   "source": [
    "# Portfolio Assignment: 2-Star Builder\n",
    "\n",
    "| Topic | Details |\n",
    "| --------  |  -------- |\n",
    "| Student    | Krystian Confeiteiro |\n",
    "| Professor  | Dr. Nieves-Caballero |\n",
    "| Course     | PS 401 - 02DB |\n",
    "| Assignment | 2-Star Builder Addendum ([link](https://erau.instructure.com/courses/178218/assignments/3658651)) |\n",
    "| Due Date       | 10/20/2024 (submitted **10/20/2024**) |"
   ]
  },
  {
   "cell_type": "markdown",
   "metadata": {},
   "source": [
    "# Assignment Outline"
   ]
  },
  {
   "cell_type": "markdown",
   "metadata": {},
   "source": [
    "## Steps \n",
    "- [ ]  Derive and graph $T$ and $P$ for the constant density case\n",
    "- [ ]  Calculate $\\rho_0$, $M(r)$, $g(r)$, $P(r)$, $T(r)$, and $\\phi(r)$ for the given density profile\n",
    "- [ ]  Create a table comparing expressions for $\\rho$, $M$, $g$, $P$, and $\\phi$ for all three density profiles\n",
    "- [ ]  Calculate and compare central densities for all cases using Sun's mass and radius\n",
    "- [ ]  Evaluate the accuracy of these approximations for the Sun's interior"
   ]
  },
  {
   "cell_type": "code",
   "execution_count": 1,
   "metadata": {},
   "outputs": [],
   "source": [
    "import math\n",
    "\n",
    "import matplotlib.pyplot as plt\n",
    "import numpy as np"
   ]
  }
 ],
 "metadata": {
  "kernelspec": {
   "display_name": "venv_courses",
   "language": "python",
   "name": "python3"
  },
  "language_info": {
   "codemirror_mode": {
    "name": "ipython",
    "version": 3
   },
   "file_extension": ".py",
   "mimetype": "text/x-python",
   "name": "python",
   "nbconvert_exporter": "python",
   "pygments_lexer": "ipython3",
   "version": "3.11.4"
  }
 },
 "nbformat": 4,
 "nbformat_minor": 2
}
