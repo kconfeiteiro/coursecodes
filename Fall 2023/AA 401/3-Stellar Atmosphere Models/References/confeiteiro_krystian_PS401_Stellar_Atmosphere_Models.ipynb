{
    "cells": [
        {
            "cell_type": "markdown",
            "source": [],
            "metadata": {
                "id": "s5HDRGz8juIx"
            }
        },
        {
            "cell_type": "code",
            "source": [],
            "metadata": {
                "id": "RWhwwrIljuRl"
            },
            "execution_count": null,
            "outputs": []
        }
    ],
    "metadata": {
        "kernelspec": {
            "display_name": "Python 3",
            "language": "python",
            "name": "python3"
        },
        "language_info": {
            "codemirror_mode": {
                "name": "ipython",
                "version": 3
            },
            "file_extension": ".py",
            "mimetype": "text/x-python",
            "name": "python",
            "nbconvert_exporter": "python",
            "pygments_lexer": "ipython3",
            "version": "3.6.12"
        },
        "colab": {
            "provenance": [
                {
                    "file_id": "1WElFea3qzLzBEC06YJqGA7kACLebPReh",
                    "timestamp": 1698097267529
                }
            ]
        }
    },
    "nbformat": 4,
    "nbformat_minor": 0
}
