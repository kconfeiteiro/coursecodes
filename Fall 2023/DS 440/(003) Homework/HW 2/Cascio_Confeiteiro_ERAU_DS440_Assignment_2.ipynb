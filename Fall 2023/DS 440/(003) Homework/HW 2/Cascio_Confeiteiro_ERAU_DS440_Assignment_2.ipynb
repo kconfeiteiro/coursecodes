{
  "nbformat": 4,
  "nbformat_minor": 0,
  "metadata": {
    "colab": {
      "provenance": []
    },
    "kernelspec": {
      "name": "python3",
      "display_name": "Python 3"
    },
    "language_info": {
      "name": "python"
    }
  },
  "cells": [
    {
      "cell_type": "markdown",
      "source": [
        "# Assignment 2\n",
        "- Group members:\n",
        "    - Antonio Cascio\n",
        "    - Krystian Ojeda\n",
        "- Dr. Jack\n",
        "- DS-440\n",
        "- 09/06/2023\n",
        "\n",
        "## Objective\n",
        "Create a code that can take two user inputs; (1) name and (2) birthday:\n",
        "- Calculate and print the user's current age\n",
        "- Use the `try/except` control flow to handel errors\n",
        "\n",
        "## Assignment Checklist\n",
        "- [x] Calculate and print the user's current age\n",
        "- [x] Use the `try/except` control flow to handel errors\n",
        "- [x] Make public notebook link\n",
        "- [x] Submit link as comment on Canvas\n",
        "- [x] Submit notebook as physical `.ipynb` file on Canvas"
      ],
      "metadata": {
        "id": "oAaCwrcxI6AA"
      }
    },
    {
      "cell_type": "code",
      "source": [
        "from datetime import date\n",
        "import re\n",
        "\n",
        "# define function to calculate age - standard method for calculating age\n",
        "def calculate_age(month, day, year):\n",
        "    birthdate = date(year, month, day)\n",
        "    today = date.today()\n",
        "    age = (\n",
        "        today.year\n",
        "        - birthdate.year\n",
        "        - ((today.month, today.day) < (birthdate.month, birthdate.day))\n",
        "    )\n",
        "    return age\n",
        "\n",
        "# introduction message prompt\n",
        "print(\"Age Calculator\")\n",
        "print(\"--------------\")\n",
        "print(\"Welcome\")\n",
        "\n",
        "# input user's name\n",
        "username = input(\"Please enter your name: \")\n",
        "print(f\"\\nHello {username}, please follow the prompt below to calculate your age:\")\n",
        "\n",
        "# validation loop for DOB inputs\n",
        "while True:\n",
        "    try:\n",
        "        month = int(input(\"Birth month (M): \"))\n",
        "        day = int(input(\"Birth day (D): \"))\n",
        "        year = int(input(\"Birth year (YYYY): \"))\n",
        "        break\n",
        "    except:\n",
        "        print(\"Try again. Inputs must be intergers.\")\n",
        "\n",
        "# final prints with age calculation\n",
        "print(f\"Thank you, {username}.\\nYour entered date of birth: {month}/{day}/{year}\\n\")\n",
        "print(\"Your agae is: {}\".format(calculate_age(month, day, year)))"
      ],
      "metadata": {
        "colab": {
          "base_uri": "https://localhost:8080/"
        },
        "id": "X4htRzi0KWK_",
        "outputId": "66f87e6c-014e-4596-8c21-7e1f2f8f12cd"
      },
      "execution_count": 2,
      "outputs": [
        {
          "output_type": "stream",
          "name": "stdout",
          "text": [
            "Age Calculator\n",
            "--------------\n",
            "Welcome\n",
            "Please enter your name: Krys\n",
            "\n",
            "Hello Krys, please follow the prompt below to calculate your age:\n",
            "Birth month (M): 12\n",
            "Birth day (D): 25\n",
            "Birth year (YYYY): 1954\n",
            "Thank you, Krys.\n",
            "Your entered date of birth: 12/25/1954\n",
            "\n",
            "Your agae is: 68\n"
          ]
        }
      ]
    }
  ]
}