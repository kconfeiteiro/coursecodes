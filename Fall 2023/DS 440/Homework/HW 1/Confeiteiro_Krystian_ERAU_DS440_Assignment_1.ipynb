{
  "nbformat": 4,
  "nbformat_minor": 0,
  "metadata": {
    "colab": {
      "provenance": []
    },
    "kernelspec": {
      "name": "python3",
      "display_name": "Python 3"
    },
    "language_info": {
      "name": "python"
    }
  },
  "cells": [
    {
      "cell_type": "markdown",
      "source": [
        "# Assignment\n",
        "- Krystian Ojeda Confeiteiro\n",
        "- DS 440\n",
        "- Dr. Jack\n",
        "\n",
        "## Details\n",
        "Set up your Google Colab environment:\n",
        "1. Create a google colab notebook and from a Google Drive Folder,\n",
        "2. Modify the title of the Colab notebook as \"ERAU MA440 Assignment 1 FA2023\"\n",
        "3. Create a text cell, insert text 'Question 1'\n",
        "4. Create a code cell, insert some code to print the current date and time\n",
        "    - Execute the code cell. Sample codes can be found [here](https://www.programiz.com/python-programming/datetime/current-datetimeLinks) to an external site.\n",
        "5. Submission:\n",
        "    - (a) Share me a link to your Google Colab notebook via 'Add comment' function.\n",
        "    - (b) the .ipynb file exported from colab environment for record purposes.\n",
        "\n",
        "## Notes\n",
        "1. When sharing your Colab notebook, please ensure anyone can access via the url, or I won't be able to grade.\n",
        "image.png\n",
        "2. Export the .ipynb file as for record purposes.\n",
        "image.png\n",
        "3. The cells has to be organized neatly, a good way is to use sections or subsections, section or subsection headers can be generated using text cell. The text cell uses a Markdown style syntax.\n",
        "4. Every member in the group needs to submit the same content and group member's full names need to appear at the beginning of the notebook.\n",
        "    - **If you are not familiar with Colab Notebook, a brief tutorial can be found in this slide** [Colab Tutorial.pptx](https://erau.instructure.com/courses/163647/files/35620989?wrap=1). **This slide contains video clips, and you need to download to your local computer to watch them**.\n",
        "\n",
        "# Assignment Checklist\n",
        "- [x] Create colab notebook\n",
        "- [x] Change filename\n",
        "- [x] Create cell and insert \"Question 1\"\n",
        "- [x] Write code to print current date and time\n",
        "- [x] Execute cell"
      ],
      "metadata": {
        "id": "3w11Ak7Ma1_m"
      }
    },
    {
      "cell_type": "markdown",
      "source": [
        "#  Question 1"
      ],
      "metadata": {
        "id": "3K7Xz1z9cu9z"
      }
    },
    {
      "cell_type": "code",
      "source": [
        "from datetime import datetime\n",
        "\n",
        "today = datetime.now()\n",
        "longdateformat = today.strftime(\"%B %d, %Y\")\n",
        "print(\"Today's date is {}.\".format(longdateformat))"
      ],
      "metadata": {
        "colab": {
          "base_uri": "https://localhost:8080/"
        },
        "id": "vl8_GoPTcwRm",
        "outputId": "e865594f-b9df-46ad-a2b0-77a1e1f14ada"
      },
      "execution_count": 3,
      "outputs": [
        {
          "output_type": "stream",
          "name": "stdout",
          "text": [
            "Today's date is September 06, 2023.\n"
          ]
        }
      ]
    }
  ]
}