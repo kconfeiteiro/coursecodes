{
  "nbformat": 4,
  "nbformat_minor": 0,
  "metadata": {
    "colab": {
      "provenance": [],
      "toc_visible": true
    },
    "kernelspec": {
      "name": "python3",
      "display_name": "Python 3"
    },
    "language_info": {
      "name": "python"
    }
  },
  "cells": [
    {
      "cell_type": "markdown",
      "source": [
        "# Assignment 6\n",
        "\n",
        "\n"
      ],
      "metadata": {
        "id": "FxmDXqbSx3al"
      }
    },
    {
      "cell_type": "markdown",
      "source": [
        "| Topic | Information |\n",
        "| --------  |  -------- |\n",
        "| Team Members | Antonio Cascio & Krystian Confeiteiro |\n",
        "| Professor    | Dr. Jack |\n",
        "| Course       | DS 440 - 01DB |\n",
        "| Assignment   | Assignment 6 |\n",
        "| Date         | 11/05/2023 |"
      ],
      "metadata": {
        "id": "d0CX5oIKT0Q-"
      }
    },
    {
      "cell_type": "markdown",
      "source": [
        "## Assignment Objective"
      ],
      "metadata": {
        "id": "u9wK1bOmTprg"
      }
    },
    {
      "cell_type": "markdown",
      "source": [
        "Our objectives are\n",
        "1. Choose two algorithms in [Module 5](https://drive.google.com/drive/folders/1d5SId49UAug0FSlVZggGr54yM3H4JW4j?usp=drive_link) and [Naive Bayesian Classifier](https://drive.google.com/drive/folders/14-eyH9aV0Tb2eqscA9sDfiAOzHfsgSjq?usp=drive_link) to train three classifiers on the wine dataset provided by `sklearn` which is used in `Week7_NaiveBayes.ipynb`.\n",
        "2. Plot the three classifiers' confusion matrices."
      ],
      "metadata": {
        "id": "FP71iFXdT1mf"
      }
    },
    {
      "cell_type": "markdown",
      "source": [
        "# Assignment Checklist\n"
      ],
      "metadata": {
        "id": "iMQgHiBXT1os"
      }
    },
    {
      "cell_type": "markdown",
      "source": [
        "- [x]  Choose two algorithms in [Module 5](https://drive.google.com/drive/folders/1d5SId49UAug0FSlVZggGr54yM3H4JW4j?usp=drive_link) and [Naive Bayesian Classifier](https://drive.google.com/drive/folders/14-eyH9aV0Tb2eqscA9sDfiAOzHfsgSjq?usp=drive_link) to train three classifiers on the wine dataset provided by `sklearn` which is used in `Week7_NaiveBayes.ipynb`\n",
        "- [x]  Choose three classification models\n",
        "- [x]  Write code and train models:\n",
        "    - [x]  Random Forest Classifier\n",
        "    - [x]  Decision Tree Classifier\n",
        "    - [x]  Naive-Bayes Classifier\n",
        "- [x]  Evaluate confusion matrices for all three models\n",
        "    - [x]  Random Forest Classifier\n",
        "    - [x]  Decision Tree Classifier\n",
        "    - [x]  Naive-Bayes Classifier\n",
        "- [x]  Write function to evaluate all models\n",
        "- [x]  Finish code for model evaluations\n",
        "- [x]  Write code into [Google Colab](https://colab.research.google.com/drive/1mmizA9Et0bxAwXzY9EeueeJJx6RXrimY)\n",
        "- [x]  Send to [Antonio](https://www.notion.so/fd8b902ab33d409fa30c5710412c1cb4?pvs=21) for him to submit\n",
        "- [x]  Submit code in [Canvas](https://erau.instructure.com/courses/163647/assignments/3329373)"
      ],
      "metadata": {
        "id": "drakZiZGT1s_"
      }
    },
    {
      "cell_type": "markdown",
      "source": [
        "# Code"
      ],
      "metadata": {
        "id": "F7iRrzFoT1wY"
      }
    },
    {
      "cell_type": "markdown",
      "source": [
        "## Imports & Warnings"
      ],
      "metadata": {
        "id": "0Z4ghupnS0MX"
      }
    },
    {
      "cell_type": "code",
      "source": [
        "%pip install mixed_naive_bayes"
      ],
      "metadata": {
        "id": "sI9thqZ9U2I7"
      },
      "execution_count": null,
      "outputs": []
    },
    {
      "cell_type": "code",
      "source": [
        "import warnings\n",
        "from typing import Any, NamedTuple, Sequence\n",
        "\n",
        "import matplotlib.pyplot as plt\n",
        "import pandas as pd\n",
        "import seaborn as sns\n",
        "from mixed_naive_bayes import MixedNB\n",
        "from sklearn.datasets import load_wine\n",
        "from sklearn.ensemble import RandomForestClassifier\n",
        "from sklearn.metrics import ConfusionMatrixDisplay, accuracy_score, confusion_matrix\n",
        "from sklearn.model_selection import train_test_split\n",
        "from sklearn.tree import DecisionTreeClassifier\n",
        "\n",
        "warnings.filterwarnings(\"ignore\")"
      ],
      "metadata": {
        "id": "HOFO4yJmSz_0"
      },
      "execution_count": null,
      "outputs": []
    },
    {
      "cell_type": "markdown",
      "source": [
        "## Helper Classes"
      ],
      "metadata": {
        "id": "9cPICnjuS4Lp"
      }
    },
    {
      "cell_type": "markdown",
      "source": [
        "These classes below are [named tuples](https://docs.python.org/3/library/typing.html?highlight=namedtuple#typing.NamedTuple) (called in-code as `NamedTuple()`) where we will pull the properties outlined in their `class` definition lines:"
      ],
      "metadata": {
        "id": "5Ubd8m4uS7Ka"
      }
    },
    {
      "cell_type": "code",
      "source": [
        "class ModelReturns(NamedTuple):\n",
        "    training_acc: Sequence[int | float]\n",
        "    testing_acc: Sequence[int | float]\n",
        "    y_pred_train: Sequence[int | float]\n",
        "    y_pred_test: Sequence[int | float]\n",
        "    model: Any\n",
        "\n",
        "\n",
        "class ModelLayout(NamedTuple):\n",
        "    X_train: Any\n",
        "    X_test: Any\n",
        "    y_train: Any\n",
        "    y_test: Any\n",
        "    X_vals: Any\n",
        "    y_vals: Any\n",
        "\n",
        "\n",
        "class ConfMatCFG(NamedTuple):\n",
        "    true_values: Any\n",
        "    predictions: Any\n",
        "    model: Any\n",
        "    save_as: str = None\n",
        "    classes: Any = None\n",
        "\n",
        "\n",
        "class ConfMatReturns(NamedTuple):\n",
        "    true_positive_rate: float | int = None\n",
        "    false_positive_rate: float | int = None\n",
        "    true_negative_rate: float | int = None\n",
        "    false_negative_rate: float | int = None\n",
        "    disp: Any = None"
      ],
      "metadata": {
        "id": "xGkYxxIjS4R1"
      },
      "execution_count": null,
      "outputs": []
    },
    {
      "cell_type": "markdown",
      "source": [
        "## Define Functions"
      ],
      "metadata": {
        "id": "2n97Bp58Tbf4"
      }
    },
    {
      "cell_type": "markdown",
      "source": [
        "### Data Preparation"
      ],
      "metadata": {
        "id": "UrkiiVFtTuyV"
      }
    },
    {
      "cell_type": "code",
      "source": [
        "def prepare_data(**kwargs):\n",
        "    X, y = load_wine(return_X_y=True, as_frame=True)\n",
        "    X_train, X_test, y_train, y_test = train_test_split(X, y, **kwargs)\n",
        "    return ModelLayout(X_train, X_test, y_train, y_test, X, y)"
      ],
      "metadata": {
        "id": "9ITxLM6tTu5K"
      },
      "execution_count": null,
      "outputs": []
    },
    {
      "cell_type": "markdown",
      "source": [
        "### Confusion Matrix"
      ],
      "metadata": {
        "id": "enmNEHKuTu-M"
      }
    },
    {
      "cell_type": "code",
      "source": [
        "def confusion_matrix_figure(*setups: ConfMatCFG, figsize=(10, 7), display=False):\n",
        "    returns = []\n",
        "    for setup in setups:\n",
        "        true_values, predictions, classes = (\n",
        "            setup.true_values,\n",
        "            setup.predictions,\n",
        "            setup.classes,\n",
        "        )\n",
        "        values = confusion_matrix(true_values, predictions, labels=classes)\n",
        "        disp = ConfusionMatrixDisplay(confusion_matrix=values, display_labels=classes)\n",
        "\n",
        "        with plt.ioff():\n",
        "            plt.figure(figsize=figsize)\n",
        "\n",
        "            cfm_plot = sns.heatmap(\n",
        "                pd.DataFrame(values, index=classes, columns=classes),\n",
        "                annot=True,\n",
        "            )\n",
        "\n",
        "            cfm_plot.set(title=setup.model)\n",
        "\n",
        "            if setup.save_as:\n",
        "                cfm_plot.figure.savefig(setup.save_as)\n",
        "\n",
        "        if display:\n",
        "            plt.show()\n",
        "\n",
        "        returns.append(ConfMatReturns(*values, disp))\n",
        "\n",
        "    return returns"
      ],
      "metadata": {
        "id": "cafef2-dTvDb"
      },
      "execution_count": null,
      "outputs": []
    },
    {
      "cell_type": "markdown",
      "source": [
        "### Machine Learning Models"
      ],
      "metadata": {
        "id": "Vz3IN1JLTvJF"
      }
    },
    {
      "cell_type": "code",
      "source": [
        "# define function for naive-bayes classifier\n",
        "def naive_bayes(X_train, X_test, y_train, y_test, **kwargs):\n",
        "    # instantiate & fit model\n",
        "    MODEL = MixedNB(**kwargs)\n",
        "    MODEL.fit(X_train, y_train)\n",
        "\n",
        "    # training and testing predictions\n",
        "    pred_train_y = MODEL.predict(X_train)\n",
        "    pred_test_y = MODEL.predict(X_test)\n",
        "\n",
        "    # training and testing accuray scores\n",
        "    training_acc = accuracy_score(y_train, pred_train_y)\n",
        "    testing_acc = accuracy_score(y_test, pred_test_y)\n",
        "\n",
        "    return ModelReturns(training_acc, testing_acc, pred_train_y, pred_test_y, MODEL)\n",
        "\n",
        "\n",
        "# define function for decision tree classifier\n",
        "def decision_tree(\n",
        "    X_train,\n",
        "    X_test,\n",
        "    y_train,\n",
        "    y_test,\n",
        "    criterion=\"entropy\",\n",
        "    random_state=1,\n",
        "    **kwargs,\n",
        "):\n",
        "    # instantiate & fit model\n",
        "    MODEL = DecisionTreeClassifier(\n",
        "        random_state=random_state, criterion=criterion, **kwargs\n",
        "    )\n",
        "    MODEL.fit(X_train, y_train)\n",
        "\n",
        "    # training and testing predictions\n",
        "    pred_train_y = MODEL.predict(X_train)\n",
        "    pred_test_y = MODEL.predict(X_test)\n",
        "\n",
        "    # training and testing accuray scores\n",
        "    training_acc = accuracy_score(y_train, pred_train_y)\n",
        "    testing_acc = accuracy_score(y_test, pred_test_y)\n",
        "\n",
        "    return ModelReturns(training_acc, testing_acc, pred_train_y, pred_test_y, MODEL)\n",
        "\n",
        "\n",
        "# define function for random forest classifier\n",
        "def random_forest(X_train, X_test, y_train, y_test, **kwargs):\n",
        "    # instantiate & fit model\n",
        "    MODEL = RandomForestClassifier(**kwargs)\n",
        "    MODEL.fit(X_train, y_train)\n",
        "\n",
        "    # training and testing predictions\n",
        "    ypred_train = MODEL.predict(X_train)\n",
        "    ypred_test = MODEL.predict(X_test)\n",
        "\n",
        "    # training and testing accuray scores\n",
        "    training_acc = accuracy_score(y_train, ypred_train)\n",
        "    testing_acc = accuracy_score(y_test, ypred_test)\n",
        "\n",
        "    return ModelReturns(training_acc, testing_acc, ypred_train, ypred_test, MODEL)"
      ],
      "metadata": {
        "id": "CfgOs8LZTvOa"
      },
      "execution_count": null,
      "outputs": []
    },
    {
      "cell_type": "markdown",
      "source": [
        "### Evaluation of All Models"
      ],
      "metadata": {
        "id": "GWKUF5CUTvUm"
      }
    },
    {
      "cell_type": "code",
      "source": [
        "def evaluate_all_models(data, **kwargs):\n",
        "    return {\n",
        "        \"naive-bayes\": naive_bayes(*data, **kwargs),\n",
        "        \"decision tree\": decision_tree(*data, **kwargs),\n",
        "        \"random forest\": random_forest(*data, **kwargs),\n",
        "    }"
      ],
      "metadata": {
        "id": "Aidoi7txTbuv"
      },
      "execution_count": null,
      "outputs": []
    },
    {
      "cell_type": "markdown",
      "source": [
        "## Prepare Data, Call Functions, Etc."
      ],
      "metadata": {
        "id": "Iiza1fCBThcX"
      }
    },
    {
      "cell_type": "code",
      "source": [
        "if __name__ == \"__main__\":\n",
        "    # prepare data and define values\n",
        "    DATA = prepare_data(test_size=0.3, random_state=1)\n",
        "    X_train = DATA.X_train\n",
        "    X_test = DATA.X_test\n",
        "    y_train = DATA.y_train\n",
        "    y_test = DATA.y_test\n",
        "    X_vals, y_vals = DATA.X_vals, DATA.y_vals\n",
        "\n",
        "    # evaluate all models\n",
        "    MODELS = evaluate_all_models((X_train, X_test, y_train, y_test))\n",
        "    NBC = MODELS[\"naive-bayes\"]\n",
        "    DTC = MODELS[\"decision tree\"]\n",
        "    RFC = MODELS[\"random forest\"]\n",
        "\n",
        "    # set number of classes for confusion matricies\n",
        "    classes = [0, 1, 2]\n",
        "\n",
        "    # plot and/or confusion matricies for all three models\n",
        "    NBC_CM, DTC_CM, RFC_CM = confusion_matrix_figure(\n",
        "        ConfMatCFG(y_test, NBC.y_pred_test, NBC.model, classes=classes),\n",
        "        ConfMatCFG(y_test, DTC.y_pred_test, DTC.model, classes=classes),\n",
        "        ConfMatCFG(y_test, RFC.y_pred_test, RFC.model, classes=classes),\n",
        "        display=True\n",
        "    )\n"
      ],
      "metadata": {
        "colab": {
          "base_uri": "https://localhost:8080/",
          "height": 1000
        },
        "id": "1d7ghpvpR-_O",
        "outputId": "43bb4438-2dc5-4fdc-e469-4342e27ee4f1"
      },
      "execution_count": 7,
      "outputs": [
        {
          "output_type": "display_data",
          "data": {
            "text/plain": [
              "<Figure size 1000x700 with 2 Axes>"
            ],
            "image/png": "[encoded data removed]"
          },
          "metadata": {}
        },
        {
          "output_type": "display_data",
          "data": {
            "text/plain": [
              "<Figure size 1000x700 with 2 Axes>"
            ],
            "image/png": "[encoded data removed]"
          },
          "metadata": {}
        },
        {
          "output_type": "display_data",
          "data": {
            "text/plain": [
              "<Figure size 1000x700 with 2 Axes>"
            ],
            "image/png": "[encoded data removed]"
          },
          "metadata": {}
        }
      ]
    }
  ]
}