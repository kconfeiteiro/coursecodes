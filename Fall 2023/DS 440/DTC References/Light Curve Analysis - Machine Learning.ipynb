{
 "cells": [
  {
   "cell_type": "markdown",
   "id": "8b76defe",
   "metadata": {},
   "source": [
    "## Import Packages"
   ]
  },
  {
   "cell_type": "code",
   "execution_count": 1,
   "id": "1605f23d",
   "metadata": {},
   "outputs": [],
   "source": [
    "import numpy as np\n",
    "import pandas as pd\n",
    "import matplotlib.pyplot as plt\n",
    "import warnings\n",
    "warnings.filterwarnings('ignore')\n",
    "\n",
    "from sklearn.tree import DecisionTreeClassifier\n",
    "from sklearn.neighbors import KNeighborsClassifier\n",
    "from sklearn.ensemble import AdaBoostClassifier\n",
    "from sklearn.ensemble import RandomForestClassifier\n",
    "from sklearn.metrics import accuracy_score\n",
    "from sklearn.metrics import confusion_matrix\n",
    "from sklearn.metrics import classification_report\n",
    "from sklearn.metrics import ConfusionMatrixDisplay\n",
    "from sklearn.model_selection import KFold\n",
    "from sklearn.model_selection import cross_val_score\n",
    "from sklearn.model_selection import train_test_split\n"
   ]
  },
  {
   "cell_type": "markdown",
   "id": "6809e321",
   "metadata": {},
   "source": [
    "## Data Preprocessing"
   ]
  },
  {
   "cell_type": "markdown",
   "id": "322adc79",
   "metadata": {},
   "source": [
    "### Buzasi Data"
   ]
  },
  {
   "cell_type": "markdown",
   "id": "f22a4f3b",
   "metadata": {},
   "source": [
    "#### Import Tar file and Extract Postage Stamps "
   ]
  },
  {
   "cell_type": "code",
   "execution_count": 2,
   "id": "72dcb4db",
   "metadata": {},
   "outputs": [],
   "source": [
    "import tarfile\n",
    "my_tar = tarfile.open('C:/Users/ptgri/Gyrochronology/Files/tess_postage_stamps.tar')\n",
    "my_tar.extractall('./my_folder')\n",
    "my_tar.close()\n"
   ]
  },
  {
   "cell_type": "markdown",
   "id": "56fc9789",
   "metadata": {},
   "source": [
    "#### Write Postage Stamps to .txt file "
   ]
  },
  {
   "cell_type": "code",
   "execution_count": 3,
   "id": "bf99ce34",
   "metadata": {},
   "outputs": [],
   "source": [
    "import os\n",
    "os.chdir('C:/Users/ptgri/Gyrochronology/Code/my_folder')\n",
    "\n",
    "with open(\"Buzasi.txt\", \"w\") as outfile:\n",
    "    def write_text_file(file_path):\n",
    "        with open(file_path) as f:\n",
    "            contents = f.read()\n",
    "            outfile.write(contents)\n",
    "            outfile.write('\\n')\n",
    "    for file in os.listdir():\n",
    "        if file.endswith(\".txt\"):\n",
    "            file_path = f\"{'C:/Users/ptgri/Gyrochronology/Code/my_folder'}\\{file}\"\n",
    "            write_text_file(file_path)\n"
   ]
  },
  {
   "cell_type": "markdown",
   "id": "868fc4cc",
   "metadata": {},
   "source": [
    "#### Import and process .txt file as .csv file"
   ]
  },
  {
   "cell_type": "code",
   "execution_count": 4,
   "id": "6d7c1e59",
   "metadata": {},
   "outputs": [],
   "source": [
    "Buzasi = pd.read_csv('C:/Users/ptgri/Gyrochronology/Code/my_folder/Buzasi.txt',header=None, sep=' ', quotechar='\"', skip_blank_lines=False)\n",
    "Buzasi[['1','2','3','4','5','6','7','8','9','10','11','12','13','14','15','16','17','18','19','20','21','22','23','24','25']] = (Buzasi[0].astype(str).str.split(',', expand=True).astype(float))\n",
    "Buzasi = Buzasi.drop(columns=[0])\n",
    "Buzasi = Buzasi.fillna(0)\n",
    "Buzasi = pd.read_csv('C:/Users/ptgri/Gyrochronology/Files/test.csv')\n"
   ]
  },
  {
   "cell_type": "markdown",
   "id": "f1c3f39c",
   "metadata": {},
   "source": [
    "#### Zero-padding to ensure images have equal dimensions, then puts each image in a single row, and creates a NumPy array   "
   ]
  },
  {
   "cell_type": "code",
   "execution_count": 5,
   "id": "2b9855a5",
   "metadata": {},
   "outputs": [],
   "source": [
    "padded_matrix = []\n",
    "i = 0\n",
    "j = 0\n",
    "k = 0\n",
    "N = 3912 #total number of objects\n",
    "M = 3887 #objects with valid images\n",
    "for k in range(M):\n",
    "    count = Buzasi.groupby((Buzasi['1'] == 0).cumsum()).cumcount(ascending=False)+1\n",
    "    j = i + count[i]\n",
    "    shape = np.shape(Buzasi.iloc[i:j])\n",
    "    padded_array = np.zeros((27, 25))\n",
    "    padded_array[:shape[0],:shape[1]] = Buzasi.iloc[i:j]\n",
    "    padded_matrix.append(padded_array)\n",
    "    i = j + 1\n",
    "    k = k + 1\n",
    "padded_matrix = np.array(padded_matrix)\n",
    "padded_matrix = padded_matrix.reshape(M,27*25)\n"
   ]
  },
  {
   "cell_type": "markdown",
   "id": "506c016b",
   "metadata": {},
   "source": [
    "#### Visualize 5 random samples at once"
   ]
  },
  {
   "cell_type": "code",
   "execution_count": 6,
   "id": "cf6037c5",
   "metadata": {},
   "outputs": [
    {
     "data": {
      "image/png": "[encoded data removed]",
      "text/plain": [
       "<Figure size 1080x1080 with 5 Axes>"
      ]
     },
     "metadata": {
      "needs_background": "light"
     },
     "output_type": "display_data"
    }
   ],
   "source": [
    "from random import randint\n",
    "ind = [randint(0,2541),randint(0,2541),randint(0,2541),randint(0,2541),randint(0,2541)]\n",
    "fig = plt.figure(figsize=(15,15))\n",
    "for j in range(len(ind)):\n",
    "    ax = fig.add_subplot(1,5,j+1)\n",
    "    ax.imshow(padded_matrix[ind[j]].reshape(27,25))\n",
    "    plt.title('Index: '+str(ind[j]+1))\n",
    "plt.show()\n"
   ]
  },
  {
   "cell_type": "markdown",
   "id": "e0a2b6bf",
   "metadata": {},
   "source": [
    "#### Filtering images with bad data"
   ]
  },
  {
   "cell_type": "code",
   "execution_count": 7,
   "id": "959b0cc3",
   "metadata": {},
   "outputs": [],
   "source": [
    "bad_image = [110376, 11490327, 27014182, 54926434, 87480403, 94367286, 105438311, 125802413, 267624955,\n",
    "             298017097, 302158903, 332680754, 354825513, 373139866, 382422098, 382422180, 399665349,\n",
    "             410205809, 416233532, 427733653, 441709021, 441804568, 443616529, 447823435, 458343311]\n"
   ]
  },
  {
   "cell_type": "markdown",
   "id": "215c304a",
   "metadata": {},
   "source": [
    "### Oswalt Data"
   ]
  },
  {
   "cell_type": "code",
   "execution_count": 8,
   "id": "691bd949",
   "metadata": {},
   "outputs": [],
   "source": [
    "df = pd.read_excel('C:/Users/ptgri/Gyrochronology/Files/TESS_Oswalt.xlsx',skiprows=3)\n",
    "df = df.iloc[: , :17]\n",
    "df = df[df.TIC.isin(bad_image) == False]\n"
   ]
  },
  {
   "cell_type": "code",
   "execution_count": 9,
   "id": "429f0b08",
   "metadata": {},
   "outputs": [],
   "source": [
    "df['ANR'] = \"\"\n",
    "df.loc[df['SNR'] >= 4.0, 'ANR'] = 1\n",
    "df.loc[df['SNR'] < 4.0, 'ANR'] = 0\n",
    "\n",
    "df['Peaks'] = 1\n",
    "df.loc[df['Mult [M#]'].str.contains('M', na=False), 'Peaks'] = 0\n",
    "\n",
    "df['Rotators'] = 1\n",
    "df.loc[df['Rot [R]'].str.contains('R', na=False), 'Rotators'] = 0\n",
    "\n",
    "df['Pulsators'] = 1\n",
    "df.loc[df['Pulse [P]'].str.contains('P', na=False), 'Pulsators'] = 0\n",
    "\n",
    "df['Flares'] = 1\n",
    "df.loc[df['Flare [F]'].str.contains('F', na=False), 'Flares'] = 0\n",
    "\n",
    "df['Eclipses'] = 1\n",
    "df.loc[df['Ecl [E]'].str.contains('E', na=False), 'Eclipses'] = 0\n",
    "\n",
    "df['Discs'] = 1\n",
    "df.loc[df['Disc [D]'].str.contains('D', na=False), 'Discs'] = 0\n",
    "\n",
    "df['Blends'] = 1\n",
    "df.loc[df['Blend [B]'] == 'B', 'Blends'] = 0\n",
    "df.loc[df['Blend [B]'] == '?', 'Blends'] = 0\n",
    "df.loc[df['Blend [B]'] == 'B?', 'Blends'] = 0\n",
    "\n",
    "df['Trails'] = 1\n",
    "df.loc[df['Trail [T]'] == 'T', 'Trails'] = 0\n",
    "df.loc[df['Trail [T]'] == '?', 'Trails'] = 0\n",
    "df.loc[df['Trail [T]'] == 'T?', 'Trails'] = 0\n",
    "\n",
    "df['Sky Background'] = 1\n",
    "df.loc[df['Sky [S]'] == 'S', 'Sky Background'] = 0\n",
    "df.loc[df['Sky [S]'] == '?', 'Sky Background'] = 0\n",
    "df.loc[df['Sky [S]'] == 'S?', 'Sky Background'] = 0\n",
    "\n",
    "df['Aperture'] = 1\n",
    "df.loc[df['Apert [A]'] == 'A', 'Aperture'] = 0\n",
    "df.loc[df['Apert [A]'] == '?', 'Aperture'] = 0\n",
    "df.loc[df['Apert [A]'] == 'A?', 'Aperture'] = 0\n",
    "\n",
    "df['Quality'] = 0\n",
    "df.loc[df['Redo (X)'] == 'X', 'Quality'] = 0\n",
    "df.loc[df['Redo (X)'] == 'OK', 'Quality'] = 1\n",
    "df.loc[df['Redo (X)'] == 'OK?', 'Quality'] = 1\n",
    "df.loc[df['Redo (X)'] == 'OK??', 'Quality'] = 1\n"
   ]
  },
  {
   "cell_type": "markdown",
   "id": "9c7d7f4d",
   "metadata": {},
   "source": [
    "### Carina Data"
   ]
  },
  {
   "cell_type": "code",
   "execution_count": 10,
   "id": "77cc317b",
   "metadata": {},
   "outputs": [],
   "source": [
    "df1 = pd.read_excel('C:/Users/ptgri/Gyrochronology/Files/TESS_Carina.xlsx',skiprows=3)\n",
    "df1 = df1.iloc[: , :18]\n",
    "df1 = df1[df1.TIC.isin(bad_image) == False]\n"
   ]
  },
  {
   "cell_type": "code",
   "execution_count": 11,
   "id": "a3c92637",
   "metadata": {},
   "outputs": [],
   "source": [
    "df1['ANR'] = \"\"\n",
    "df1.loc[df1['SNR'] >= 4.0, 'ANR'] = 1\n",
    "df1.loc[df1['SNR'] < 4.0, 'ANR'] = 0\n",
    "\n",
    "df1['Peaks'] = 1\n",
    "df1.loc[df1['Mult P [M#]'].str.contains('M', na=False), 'Peaks'] = 0\n",
    "\n",
    "df1['Rotators'] = 1\n",
    "df1.loc[df1['Rot [R]'].str.contains('R', na=False), 'Rotators'] = 0\n",
    "\n",
    "df1['Pulsators'] = 1\n",
    "df1.loc[df1['Pulse [P]'].str.contains('P', na=False), 'Pulsators'] = 0\n",
    "\n",
    "df1['Flares'] = 1\n",
    "df1.loc[df1['Flare [F]'].str.contains('F', na=False), 'Flares'] = 0\n",
    "\n",
    "df1['Eclipses'] = 1\n",
    "df1.loc[df1['Ecl [E]'].str.contains('E', na=False), 'Eclipses'] = 0\n",
    "\n",
    "df1['Discs'] = 1\n",
    "df1.loc[df1['Disc [D]'].str.contains('D', na=False), 'Discs'] = 0\n",
    "\n",
    "df1['Blends'] = 1\n",
    "df1.loc[df1['Blend [B]'] == 'B', 'Blends'] = 0\n",
    "df1.loc[df1['Blend [B]'] == '?', 'Blends'] = 0\n",
    "df1.loc[df1['Blend [B]'] == 'B?', 'Blends'] = 0\n",
    "\n",
    "df1['Trails'] = 1\n",
    "df1.loc[df1['Trail [T]'] == 'T', 'Trails'] = 0\n",
    "df1.loc[df1['Trail [T]'] == '?', 'Trails'] = 0\n",
    "df1.loc[df1['Trail [T]'] == 'T?', 'Trails'] = 0\n",
    "\n",
    "df1['Sky Background'] = 1\n",
    "df1.loc[df1['Sky [S]'] == 'S', 'Sky Background'] = 0\n",
    "df1.loc[df1['Sky [S]'] == '?', 'Sky Background'] = 0\n",
    "df1.loc[df1['Sky [S]'] == 'S?', 'Sky Background'] = 0\n",
    "\n",
    "df1['Aperture'] = 1\n",
    "df1.loc[df1['Apert [A]'] == 'A', 'Aperture'] = 0\n",
    "df1.loc[df1['Apert [A]'] == '?', 'Aperture'] = 0\n",
    "df1.loc[df1['Apert [A]'] == 'A?', 'Aperture'] = 0\n",
    "\n",
    "df1['Quality'] = 0\n",
    "df1.loc[df1['Redo (X)'] == 'OK', 'Quality'] = 1\n",
    "df1.loc[df1['Redo (X)'] == 'OK?', 'Quality'] = 1\n"
   ]
  },
  {
   "cell_type": "markdown",
   "id": "e7db83da",
   "metadata": {},
   "source": [
    "### Attribute Selection"
   ]
  },
  {
   "cell_type": "code",
   "execution_count": 12,
   "id": "7e0aa59a",
   "metadata": {},
   "outputs": [
    {
     "name": "stdout",
     "output_type": "stream",
     "text": [
      "Please input target attribute of choice:\n",
      "0. Quality\n",
      "1. Aperture\n",
      "2. Sky Background\n",
      "3. Trails\n",
      "4. Blends\n",
      "5. Discs\n",
      "6. Eclipses\n",
      "7. Flares\n",
      "8. Pulsators\n",
      "9. Rotators\n",
      "10. Peaks\n",
      "\n",
      "Choice:0\n"
     ]
    }
   ],
   "source": [
    "print('Please input target attribute of choice:\\n0. Quality\\n1. Aperture\\n2. Sky Background\\n3. Trails\\n4. Blends\\n5. Discs\\n6. Eclipses\\n7. Flares\\n8. Pulsators\\n9. Rotators\\n10. Peaks\\n')\n",
    "choice = int(input(\"Choice:\"))\n",
    "if choice == 0:\n",
    "    df = df[['Quality']].reset_index()\n",
    "    df1 = df1[['Quality']].reset_index()\n",
    "elif choice == 1:\n",
    "    df = df[['Aperture']].reset_index()\n",
    "    df1 = df1[['Aperture']].reset_index()\n",
    "elif choice == 2:\n",
    "    df = df[['Sky Background']].reset_index()\n",
    "    df1 = df1[['Sky Background']].reset_index()\n",
    "elif choice == 3:\n",
    "    df = df[['Trails']].reset_index()\n",
    "    df1 = df1[['Trails']].reset_index()\n",
    "elif choice == 4:\n",
    "    df = df[['Blends']].reset_index()\n",
    "    df1 = df1[['Blends']].reset_index()\n",
    "elif choice == 5:\n",
    "    df = df[['Discs']].reset_index()\n",
    "    df1 = df1[['Discs']].reset_index()\n",
    "elif choice == 6:\n",
    "    df = df[['Eclipses']].reset_index()\n",
    "    df1 = df1[['Eclipses']].reset_index()\n",
    "elif choice == 7:\n",
    "    df = df[['Flares']].reset_index()\n",
    "    df1 = df1[['Flares']].reset_index()\n",
    "elif choice == 8:\n",
    "    df = df[['Pulsators']].reset_index()\n",
    "    df1 = df1[['Pulsators']].reset_index()\n",
    "elif choice == 9:\n",
    "    df = df[['Rotators']].reset_index()\n",
    "    df1 = df1[['Rotators']].reset_index()\n",
    "elif choice == 10:\n",
    "    df = df[['Peaks']].reset_index()\n",
    "    df1 = df1[['Peaks']].reset_index()\n",
    "else:\n",
    "    df = df[['ANR']].reset_index()\n",
    "    df1 = df1[['ANR']].reset_index()\n"
   ]
  },
  {
   "cell_type": "markdown",
   "id": "6f860659",
   "metadata": {},
   "source": [
    "### Data Selection"
   ]
  },
  {
   "cell_type": "code",
   "execution_count": 13,
   "id": "ecace6bf",
   "metadata": {},
   "outputs": [
    {
     "name": "stdout",
     "output_type": "stream",
     "text": [
      "Whose data do you want to load?:\n",
      "0. Oswalt\n",
      "1. Carina\n",
      "\n",
      "Choice:0\n",
      "Size of X: (3887, 675) \n",
      "Size of y: (3887, 1)\n"
     ]
    }
   ],
   "source": [
    "print('Whose data do you want to load?:\\n0. Oswalt\\n1. Carina\\n')\n",
    "dat = int(input(\"Choice:\"))\n",
    "if dat == 0:\n",
    "    y = df.to_numpy()\n",
    "    y = y[:,1:]\n",
    "    y = y.astype(int)\n",
    "    X = padded_matrix\n",
    "    print('Size of X:',X.shape,'\\nSize of y:',y.shape)\n",
    "elif dat == 1:\n",
    "    y = df1.to_numpy()\n",
    "    y = y[:,1:]\n",
    "    y = y.astype(int)\n",
    "    X = padded_matrix\n",
    "    print('Size of X:',X.shape,'\\nSize of y:',y.shape)\n"
   ]
  },
  {
   "cell_type": "markdown",
   "id": "0f1bff53",
   "metadata": {},
   "source": [
    "# Machine Learning Algorithms"
   ]
  },
  {
   "cell_type": "markdown",
   "id": "27dd7483",
   "metadata": {},
   "source": [
    "## K-Nearest Neighbor Classification"
   ]
  },
  {
   "cell_type": "markdown",
   "id": "d29b8d7d",
   "metadata": {},
   "source": [
    "### Splitting Data"
   ]
  },
  {
   "cell_type": "code",
   "execution_count": 14,
   "id": "daa4e610",
   "metadata": {},
   "outputs": [],
   "source": [
    "X_train,X_test,y_train,y_test = train_test_split(X,y,test_size = 0.2, stratify = y, random_state = 1)\n"
   ]
  },
  {
   "cell_type": "markdown",
   "id": "40afbdb4",
   "metadata": {},
   "source": [
    "### Initial Prediction Model"
   ]
  },
  {
   "cell_type": "code",
   "execution_count": 15,
   "id": "813ee2a5",
   "metadata": {},
   "outputs": [
    {
     "name": "stdout",
     "output_type": "stream",
     "text": [
      "Training accuracy: 0.8639433901576069\n",
      "Testing accuracy: 0.8187660668380463\n"
     ]
    }
   ],
   "source": [
    "KNN = KNeighborsClassifier()\n",
    "KNN.fit(X_train,y_train)\n",
    "ypred_train = KNN.predict(X_train)\n",
    "print(\"Training accuracy:\",accuracy_score(y_train,ypred_train))\n",
    "ypred_test = KNN.predict(X_test)\n",
    "print(\"Testing accuracy:\",accuracy_score(y_test,ypred_test))\n"
   ]
  },
  {
   "cell_type": "markdown",
   "id": "432fdc8a",
   "metadata": {},
   "source": [
    "### K-fold cross validation to find the best model"
   ]
  },
  {
   "cell_type": "code",
   "execution_count": 16,
   "id": "51e25c61",
   "metadata": {},
   "outputs": [],
   "source": [
    "k = 5\n",
    "kf = KFold(n_splits=k)\n",
    "\n",
    "Performance = np.empty([k,50])\n",
    "count = 0\n",
    "for train, val in kf.split(X_train):\n",
    "    #training data\n",
    "    train_X = X_train[train]\n",
    "    train_y = y_train[train]\n",
    "\n",
    "    #validation data\n",
    "    val_X = X_train[val]\n",
    "    val_y = y_train[val]\n",
    "\n",
    "    for j in range(1,51):\n",
    "        KNN = KNeighborsClassifier(n_neighbors = j)\n",
    "        KNN.fit(train_X, train_y)\n",
    "\n",
    "        #Predicting\n",
    "        ypred_val = KNN.predict(val_X)\n",
    "        Performance[count, j-1] = accuracy_score(val_y, ypred_val)\n",
    "    count = count + 1\n"
   ]
  },
  {
   "cell_type": "markdown",
   "id": "b5855237",
   "metadata": {},
   "source": [
    "### Optimizing Model"
   ]
  },
  {
   "cell_type": "code",
   "execution_count": 17,
   "id": "fd44fcaa",
   "metadata": {},
   "outputs": [
    {
     "data": {
      "image/png": "[encoded data removed]",
      "text/plain": [
       "<Figure size 432x288 with 1 Axes>"
      ]
     },
     "metadata": {
      "needs_background": "light"
     },
     "output_type": "display_data"
    }
   ],
   "source": [
    "avg_performance = np.mean(Performance, axis=0)\n",
    "best_model = np.argmax(avg_performance)\n",
    "plt.plot(np.arange(1,len(avg_performance)+1),avg_performance)\n",
    "plt.axvline(x=best_model+1, color = 'k')\n",
    "plt.title('Optimal Number of Nearest Neighbors: K = '+str(best_model+1),size = 15)\n",
    "plt.xlabel('Number of Nearest Neighbors',size = 12)\n",
    "plt.ylabel('Accuracy Score',size = 12)\n",
    "plt.show()\n"
   ]
  },
  {
   "cell_type": "markdown",
   "id": "8c646a8d",
   "metadata": {},
   "source": [
    "### Final Model Performance"
   ]
  },
  {
   "cell_type": "code",
   "execution_count": 18,
   "id": "697d863d",
   "metadata": {},
   "outputs": [
    {
     "data": {
      "text/plain": [
       "0.8367609254498715"
      ]
     },
     "execution_count": 18,
     "metadata": {},
     "output_type": "execute_result"
    }
   ],
   "source": [
    "KNN = KNeighborsClassifier(n_neighbors=(best_model+1))\n",
    "KNN.fit(X_train,y_train)\n",
    "ypred_test = KNN.predict(X_test)\n",
    "accuracy_score(y_test,ypred_test)\n"
   ]
  },
  {
   "cell_type": "markdown",
   "id": "7fb09a2d",
   "metadata": {},
   "source": [
    "### Confusion Matrix and Classification Report"
   ]
  },
  {
   "cell_type": "code",
   "execution_count": 19,
   "id": "8ab3fd88",
   "metadata": {},
   "outputs": [
    {
     "data": {
      "image/png": "[encoded data removed]",
      "text/plain": [
       "<Figure size 432x288 with 2 Axes>"
      ]
     },
     "metadata": {
      "needs_background": "light"
     },
     "output_type": "display_data"
    },
    {
     "name": "stdout",
     "output_type": "stream",
     "text": [
      "True positive: 498 \tFalse positive: 74 \n",
      "True negative: 153 \tFalse negative: 53 \n",
      "\n",
      "              precision    recall  f1-score   support\n",
      "\n",
      "           0       0.74      0.67      0.71       227\n",
      "           1       0.87      0.90      0.89       551\n",
      "\n",
      "    accuracy                           0.84       778\n",
      "   macro avg       0.81      0.79      0.80       778\n",
      "weighted avg       0.83      0.84      0.83       778\n",
      "\n"
     ]
    }
   ],
   "source": [
    "tn, fp, fn, tp = confusion_matrix(y_test, ypred_test).ravel()\n",
    "cm = confusion_matrix(y_test, ypred_test, labels=KNN.classes_)\n",
    "disp = ConfusionMatrixDisplay(confusion_matrix=cm, display_labels=KNN.classes_)\n",
    "disp.plot()\n",
    "plt.show()\n",
    "print('True positive:',tp,'\\tFalse positive:',fp,'\\nTrue negative:',tn,'\\tFalse negative:',fn,'\\n')\n",
    "print(classification_report(y_test, ypred_test))\n"
   ]
  },
  {
   "cell_type": "markdown",
   "id": "f753c103",
   "metadata": {},
   "source": [
    "## Random Forest Classification"
   ]
  },
  {
   "cell_type": "markdown",
   "id": "7ee4b273",
   "metadata": {},
   "source": [
    "### Splitting Data"
   ]
  },
  {
   "cell_type": "code",
   "execution_count": 20,
   "id": "398f49db",
   "metadata": {},
   "outputs": [],
   "source": [
    "X_train,X_test,y_train,y_test = train_test_split(X,y,test_size = 0.2, stratify = y, random_state = 1)\n"
   ]
  },
  {
   "cell_type": "markdown",
   "id": "92dd4f39",
   "metadata": {},
   "source": [
    "### Initial Prediction Model"
   ]
  },
  {
   "cell_type": "code",
   "execution_count": 21,
   "id": "5b176a07",
   "metadata": {},
   "outputs": [
    {
     "name": "stdout",
     "output_type": "stream",
     "text": [
      "Training accuracy: 0.9971051785139916\n",
      "Testing accuracy: 0.8457583547557841\n"
     ]
    }
   ],
   "source": [
    "rfc = RandomForestClassifier(random_state = 1)\n",
    "rfc.fit(X_train, y_train)\n",
    "ypred_train = rfc.predict(X_train)\n",
    "print(\"Training accuracy:\",accuracy_score(y_train,ypred_train))\n",
    "ypred_test = rfc.predict(X_test)\n",
    "print(\"Testing accuracy:\",accuracy_score(y_test,ypred_test))\n"
   ]
  },
  {
   "cell_type": "markdown",
   "id": "63571a7c",
   "metadata": {},
   "source": [
    "### Use Validation Error to select best model"
   ]
  },
  {
   "cell_type": "code",
   "execution_count": 22,
   "id": "03915118",
   "metadata": {},
   "outputs": [
    {
     "data": {
      "image/png": "[encoded data removed]",
      "text/plain": [
       "<Figure size 432x288 with 1 Axes>"
      ]
     },
     "metadata": {
      "needs_background": "light"
     },
     "output_type": "display_data"
    }
   ],
   "source": [
    "X_tr, X_val, y_tr, y_val = train_test_split(X_train, y_train, test_size=0.2, stratify = y_train, random_state=1)\n",
    "per = []\n",
    "for j in np.arange(2,100):\n",
    "    rfc = RandomForestClassifier(random_state = 1, max_depth = j)\n",
    "    rfc.fit(X_tr,y_tr)\n",
    "    pred = rfc.predict(X_val)\n",
    "    error = 1 - accuracy_score(y_val,pred)\n",
    "    per.append(error)\n",
    "opt_depth = np.arange(2,100)[np.argmin(np.array(per))]\n",
    "plt.plot(np.arange(2,100),per)\n",
    "plt.axvline(x=opt_depth, color = 'k')\n",
    "plt.title('The best number of max depth: '+str(opt_depth),size = 15)\n",
    "plt.xlabel('Maximum depth allowed',size = 12)\n",
    "plt.ylabel('Err(val)',size = 12)\n",
    "plt.show()\n"
   ]
  },
  {
   "cell_type": "markdown",
   "id": "21b17b52",
   "metadata": {},
   "source": [
    "### Final Model Performance"
   ]
  },
  {
   "cell_type": "code",
   "execution_count": 23,
   "id": "ae1e2ff8",
   "metadata": {},
   "outputs": [
    {
     "data": {
      "text/plain": [
       "0.8470437017994858"
      ]
     },
     "execution_count": 23,
     "metadata": {},
     "output_type": "execute_result"
    }
   ],
   "source": [
    "rfc = RandomForestClassifier(random_state = 1, max_depth = opt_depth)\n",
    "rfc.fit(X_train,y_train)\n",
    "ypred_test = rfc.predict(X_test)\n",
    "accuracy_score(y_test,ypred_test)\n"
   ]
  },
  {
   "cell_type": "markdown",
   "id": "75b04124",
   "metadata": {},
   "source": [
    "### Confusion Matrix and Classification Report"
   ]
  },
  {
   "cell_type": "code",
   "execution_count": 24,
   "id": "74fdf108",
   "metadata": {},
   "outputs": [
    {
     "data": {
      "image/png": "[encoded data removed]",
      "text/plain": [
       "<Figure size 432x288 with 2 Axes>"
      ]
     },
     "metadata": {
      "needs_background": "light"
     },
     "output_type": "display_data"
    },
    {
     "name": "stdout",
     "output_type": "stream",
     "text": [
      "True positive: 528 \tFalse positive: 96 \n",
      "True negative: 131 \tFalse negative: 23 \n",
      "\n",
      "              precision    recall  f1-score   support\n",
      "\n",
      "           0       0.85      0.58      0.69       227\n",
      "           1       0.85      0.96      0.90       551\n",
      "\n",
      "    accuracy                           0.85       778\n",
      "   macro avg       0.85      0.77      0.79       778\n",
      "weighted avg       0.85      0.85      0.84       778\n",
      "\n"
     ]
    }
   ],
   "source": [
    "tn, fp, fn, tp = confusion_matrix(y_test, ypred_test).ravel()\n",
    "cm = confusion_matrix(y_test, ypred_test, labels=rfc.classes_)\n",
    "disp = ConfusionMatrixDisplay(confusion_matrix=cm, display_labels=rfc.classes_)\n",
    "disp.plot()\n",
    "plt.show()\n",
    "print('True positive:',tp,'\\tFalse positive:',fp,'\\nTrue negative:',tn,'\\tFalse negative:',fn,'\\n')\n",
    "print(classification_report(y_test, ypred_test))\n"
   ]
  },
  {
   "cell_type": "markdown",
   "id": "34acc604",
   "metadata": {},
   "source": [
    "## Decision Tree Classifier"
   ]
  },
  {
   "cell_type": "markdown",
   "id": "76ddcfae",
   "metadata": {},
   "source": [
    "### Splitting Data"
   ]
  },
  {
   "cell_type": "code",
   "execution_count": 25,
   "id": "7f5ea812",
   "metadata": {},
   "outputs": [],
   "source": [
    "X_train,X_test,y_train,y_test = train_test_split(X,y,test_size = 0.2, stratify = y, random_state = 1)\n"
   ]
  },
  {
   "cell_type": "markdown",
   "id": "0045e920",
   "metadata": {},
   "source": [
    "### Initial Prediction Model"
   ]
  },
  {
   "cell_type": "code",
   "execution_count": 26,
   "id": "ea575629",
   "metadata": {},
   "outputs": [
    {
     "name": "stdout",
     "output_type": "stream",
     "text": [
      "Training accuracy: 0.9971051785139916\n",
      "Testing accuracy: 0.7737789203084833\n"
     ]
    }
   ],
   "source": [
    "clf = DecisionTreeClassifier(random_state = 1)\n",
    "clf.fit(X_train, y_train)\n",
    "ypred_train = clf.predict(X_train)\n",
    "print(\"Training accuracy:\",accuracy_score(y_train,ypred_train))\n",
    "ypred_test = clf.predict(X_test)\n",
    "print(\"Testing accuracy:\",accuracy_score(y_test,ypred_test))\n"
   ]
  },
  {
   "cell_type": "markdown",
   "id": "e90e75d4",
   "metadata": {},
   "source": [
    "### Information on the produced Decision Tree "
   ]
  },
  {
   "cell_type": "code",
   "execution_count": 27,
   "id": "07e7442c",
   "metadata": {},
   "outputs": [
    {
     "name": "stdout",
     "output_type": "stream",
     "text": [
      "Tree depth: 39\n",
      "Number of leaves: 296\n"
     ]
    }
   ],
   "source": [
    "print('Tree depth:', clf.get_depth())\n",
    "print('Number of leaves:', clf.get_n_leaves())\n"
   ]
  },
  {
   "cell_type": "markdown",
   "id": "fd191edd",
   "metadata": {},
   "source": [
    "### Optimizing Model"
   ]
  },
  {
   "cell_type": "code",
   "execution_count": 28,
   "id": "2abc92a2",
   "metadata": {},
   "outputs": [
    {
     "data": {
      "image/png": "[encoded data removed]",
      "text/plain": [
       "<Figure size 432x288 with 1 Axes>"
      ]
     },
     "metadata": {
      "needs_background": "light"
     },
     "output_type": "display_data"
    }
   ],
   "source": [
    "X_tr, X_val, y_tr, y_val = train_test_split(X_train, y_train, test_size = 0.2, stratify = y_train, random_state = 1)\n",
    "\n",
    "per = []\n",
    "for j in np.arange(2,100):\n",
    "    clf = DecisionTreeClassifier(random_state = 1, max_leaf_nodes = j)\n",
    "    clf.fit(X_tr,y_tr)\n",
    "    pred = clf.predict(X_val)\n",
    "    error = 1 - accuracy_score(y_val,pred)\n",
    "    per.append(error)\n",
    "\n",
    "opt_nodes = np.arange(2,100)[np.argmin(np.array(per))]\n",
    "plt.plot(np.arange(2,100),per)\n",
    "plt.axvline(x=opt_nodes, color = 'k')\n",
    "plt.title('The best number of max leaves: '+str(opt_nodes),size = 15)\n",
    "plt.xlabel('Maximum number of leaves allowed',size = 12)\n",
    "plt.ylabel('Err(val)',size = 12)\n",
    "plt.show()\n"
   ]
  },
  {
   "cell_type": "markdown",
   "id": "3627ccac",
   "metadata": {},
   "source": [
    "### Final Model Performance"
   ]
  },
  {
   "cell_type": "code",
   "execution_count": 29,
   "id": "f5da44ca",
   "metadata": {},
   "outputs": [
    {
     "data": {
      "text/plain": [
       "0.800771208226221"
      ]
     },
     "execution_count": 29,
     "metadata": {},
     "output_type": "execute_result"
    }
   ],
   "source": [
    "clf = DecisionTreeClassifier(random_state = 1, max_leaf_nodes = opt_nodes)\n",
    "clf.fit(X_train,y_train)\n",
    "ypred_test = clf.predict(X_test)\n",
    "accuracy_score(y_test,ypred_test)\n"
   ]
  },
  {
   "cell_type": "markdown",
   "id": "4879d177",
   "metadata": {},
   "source": [
    "### Confusion Matrix and Classification Report"
   ]
  },
  {
   "cell_type": "code",
   "execution_count": 30,
   "id": "65c65a00",
   "metadata": {},
   "outputs": [
    {
     "data": {
      "image/png": "[encoded data removed]",
      "text/plain": [
       "<Figure size 432x288 with 2 Axes>"
      ]
     },
     "metadata": {
      "needs_background": "light"
     },
     "output_type": "display_data"
    },
    {
     "name": "stdout",
     "output_type": "stream",
     "text": [
      "True positive: 504 \tFalse positive: 108 \n",
      "True negative: 119 \tFalse negative: 47 \n",
      "\n",
      "              precision    recall  f1-score   support\n",
      "\n",
      "           0       0.72      0.52      0.61       227\n",
      "           1       0.82      0.91      0.87       551\n",
      "\n",
      "    accuracy                           0.80       778\n",
      "   macro avg       0.77      0.72      0.74       778\n",
      "weighted avg       0.79      0.80      0.79       778\n",
      "\n",
      "Tree depth: 11 \t\tNumber of leaves: 49\n"
     ]
    }
   ],
   "source": [
    "tn, fp, fn, tp = confusion_matrix(y_test, ypred_test).ravel()\n",
    "cm = confusion_matrix(y_test, ypred_test, labels=clf.classes_)\n",
    "disp = ConfusionMatrixDisplay(confusion_matrix=cm, display_labels=clf.classes_)\n",
    "disp.plot()\n",
    "plt.show()\n",
    "print('True positive:',tp,'\\tFalse positive:',fp,'\\nTrue negative:',tn,'\\tFalse negative:',fn,'\\n')\n",
    "print(classification_report(y_test, ypred_test))\n",
    "print('Tree depth:', clf.get_depth(),'\\t\\tNumber of leaves:',clf.get_n_leaves())\n"
   ]
  },
  {
   "cell_type": "markdown",
   "id": "b75c2398",
   "metadata": {},
   "source": [
    "### Accuracy Boosting with AdaBoost"
   ]
  },
  {
   "cell_type": "code",
   "execution_count": 31,
   "id": "ed2b0d06",
   "metadata": {},
   "outputs": [
    {
     "name": "stdout",
     "output_type": "stream",
     "text": [
      "Training accuracy with boost: 0.9971051785139916\n",
      "Testing accuracy with boost: 0.8316195372750642\n"
     ]
    }
   ],
   "source": [
    "abc = AdaBoostClassifier(DecisionTreeClassifier(max_leaf_nodes = opt_nodes, random_state = 1), n_estimators=100, random_state = 1)\n",
    "abc.fit(X_train, y_train)\n",
    "ypred_train = abc.predict(X_train)\n",
    "print(\"Training accuracy with boost:\",accuracy_score(y_train, ypred_train))\n",
    "ypred_test = abc.predict(X_test)\n",
    "print(\"Testing accuracy with boost:\",accuracy_score(y_test, ypred_test))\n"
   ]
  }
 ],
 "metadata": {
  "kernelspec": {
   "display_name": "Python 3 (ipykernel)",
   "language": "python",
   "name": "python3"
  },
  "language_info": {
   "codemirror_mode": {
    "name": "ipython",
    "version": 3
   },
   "file_extension": ".py",
   "mimetype": "text/x-python",
   "name": "python",
   "nbconvert_exporter": "python",
   "pygments_lexer": "ipython3",
   "version": "3.9.7"
  }
 },
 "nbformat": 4,
 "nbformat_minor": 5
}
