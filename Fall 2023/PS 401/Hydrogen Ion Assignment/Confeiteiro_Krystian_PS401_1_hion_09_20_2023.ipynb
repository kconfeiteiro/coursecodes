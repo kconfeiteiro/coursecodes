{
  "cells": [
    {
      "cell_type": "code",
      "source": [
        "# @title Enter your name { display-mode: \"form\" }\n",
        "Your_Name = \"Krystian Confeitiero\" # @param {type:\"string\"}\n",
        "\n"
      ],
      "metadata": {
        "id": "NhKo-8b0iwhU"
      },
      "execution_count": 17,
      "outputs": []
    },
    {
      "cell_type": "markdown",
      "metadata": {
        "id": "dqI6wMW5f0XY"
      },
      "source": [
        "# Ionization Fraction of Hydrogen"
      ]
    },
    {
      "cell_type": "markdown",
      "metadata": {
        "collapsed": true,
        "id": "k7Fat3ULf0Xb"
      },
      "source": [
        "This code serves to introduce plotting routines in Python.\n",
        "Here you will plot the fraction of ionized hydrogen as a function of temperature using the derivation we found in class.\n",
        "\n",
        "This cell is a markdown cell and will provide useful information or instructions for the assignments.\n",
        "\n"
      ]
    },
    {
      "cell_type": "markdown",
      "metadata": {
        "id": "iD0pO6Tcf0Xc"
      },
      "source": [
        "Here we provide some of the libraries that need to be read in to be able to execute our code. Remember that:  \n",
        "    1- **NumPy** is a fundamental package of Python. It allows for a wide range of  data\n",
        "        types and data manipulation capapbilities. To use it you will call it simply as\n",
        "        **np**.  \n",
        "    2- **Matplolib** is a Python 2D plotting library. We are only loading the Pyplot\n",
        "        capabilties, which provide a collection of command that make matplotlib work like\n",
        "        *MATLAB*.  \n",
        "    3- **Math** is a module that allow for certain math functions.  \n",
        "    4- `%matplotlib notebook` allows for interactive plotting.\n",
        "    \n",
        "\n",
        "Text in $\\color{blue}{\\text{blue}}$ are instructions or questions for you to complete.\n",
        "\n",
        "$\\color{blue}{\\text{Execute the cell below by either pressing `Shift +Enter` or using run cell button above.}}$"
      ]
    },
    {
      "cell_type": "code",
      "execution_count": 18,
      "metadata": {
        "collapsed": true,
        "id": "1AZ8RMSFf0Xc"
      },
      "outputs": [],
      "source": [
        "%matplotlib inline\n",
        "import numpy as np\n",
        "import matplotlib.pyplot as plt\n",
        "import math"
      ]
    },
    {
      "cell_type": "markdown",
      "metadata": {
        "id": "oQy2BQGnf0Xe"
      },
      "source": [
        "Once you have succefully executed a cell, a number should appear in the square brackets next to that cell.\n",
        "\n",
        "## Defining Constants"
      ]
    },
    {
      "cell_type": "markdown",
      "metadata": {
        "id": "YnhcbArQf0Xe"
      },
      "source": [
        "First you will want to define any constants you plan on using. In the next cell, we have Python code where we are saving are constants to variables that have descriptive names. In this case we have\n",
        "\n",
        "   * Boltzmann constant (in eV/K) - $k_{ev}$\n",
        "\n",
        "   * Boltzmann constant (in Joule/K) - $k$\n",
        "   \n",
        "   * $\\text{Number density (in } m^3 \\text{) - } n$\n",
        "   \n",
        "   * Mass of an electron (in kg) - $m_e$\n",
        "   \n",
        "   * Ionization energy for a Hydrogen atom (in eV)- $E_{ion}$\n",
        "   \n",
        "   * Planck's constant - $h$\n"
      ]
    },
    {
      "cell_type": "code",
      "execution_count": 19,
      "metadata": {
        "collapsed": true,
        "id": "u5-UPQIef0Xe"
      },
      "outputs": [],
      "source": [
        "k_ev = 8.6173303e-5 #eV/K\n",
        "k = 1.38064852e-23 #Joule/K\n",
        "n = 1e20 #m-3\n",
        "m_e = 9.10938356e-31 #kg\n",
        "Eion = 13.6 #eV\n",
        "h = 6.62607004e-34 #Js"
      ]
    },
    {
      "cell_type": "markdown",
      "metadata": {
        "id": "ZVvKJogTf0Xf"
      },
      "source": [
        "Notice that `**` is used for exponentials. `#` precedes comments that help any user understand what the code is doing.\n",
        "\n",
        "$\\color{blue}{\\text{Why do we need to have the Boltzmann constant in both eV/K and J/K ?}}$"
      ]
    },
    {
      "cell_type": "markdown",
      "metadata": {
        "id": "ZJSvCAzdf0Xf"
      },
      "source": [
        "\n",
        "\n",
        "## Creating an array\n",
        "\n",
        "To plot the ionization fraction as a function of temperature, we need to determine what we are plotting on the $x$-axis and what we are plotting on the $y$-axis. In this case it is ionization fraction, which we'll call $f_x$, on the $y$-axis and temperature, $T$, on the $x$-axis.\n",
        "\n",
        "The following python code creates an empty 1-D array. Think of arrays like a matrix. Each element of the array will have a value of our two parameters, $f_x$ and $T$. The array we are creating here is empty, meaning it currently it is one cell, with nothing in it."
      ]
    },
    {
      "cell_type": "code",
      "execution_count": 20,
      "metadata": {
        "collapsed": true,
        "id": "X7vzCGTzf0Xf"
      },
      "outputs": [],
      "source": [
        "t = []  #Empty 1-D temperature array\n",
        "f_x = []  #Empty 1-D ionization fraction array"
      ]
    },
    {
      "cell_type": "markdown",
      "metadata": {
        "id": "uGR06H_Hf0Xg"
      },
      "source": [
        "For plotting purposes, the $x$-axis array and the $y$-axis array need to have the same type (float, integer, etc.) and dimension.\n",
        "\n",
        "## Temperature range\n",
        "\n",
        "We will now create a `for` loop that will populate our arrays.\n",
        "\n",
        "$\\color{blue}{\\text{Set the maximum temperature}}$ `tmax` $\\color{blue}{\\text{that you want to plot.}}$\n",
        "\n",
        "HINT: Hydrogen is ionized in stars. So make an educated guess as to that temperature in Kelvin that you expect Hydrogen to be ionized."
      ]
    },
    {
      "cell_type": "code",
      "execution_count": 21,
      "metadata": {
        "collapsed": true,
        "id": "lG4EVNeZf0Xg"
      },
      "outputs": [],
      "source": [
        "tmax = 14000 #<----- Enter maximum value for the temeperature in Kelvin here ---->"
      ]
    },
    {
      "cell_type": "markdown",
      "metadata": {
        "id": "OYcrw_tuf0Xg"
      },
      "source": [
        "## Populating an array using a `for` loop\n",
        "\n",
        "In class we found an expression for the ionization fraction of hydrogen by using the Quadratic Equation\n",
        "\n",
        "$$x = \\frac{-b \\pm \\sqrt{b^2 - 4ac}}{2a}$$\n",
        "\n",
        "$\\color{blue}{\\text{Enter the expressions for a and b terms of the Quadratic formula below. Then execute the cell.}}$\n",
        "\n",
        "**NOTES:**  \n",
        "  * To use the constant $\\pi$ in Python, you use `math.pi`.  For example, the circumference of the star can be expressed like  \n",
        "  `circumf = 2.0 * math.pi * rad_star`\n",
        "  * Beware of rounding error. Make sure to enter your numbers as floats. (e.g. 2 is an integer, 2.0 is a float). Learn more about number types in Python <a href=\"https://docs.python.org/2.4/lib/typesnumeric.html\">here</a>."
      ]
    },
    {
      "cell_type": "markdown",
      "source": [
        "This loop will step through temperature in increments of 10 K until the maximum temperature value that you set above."
      ],
      "metadata": {
        "id": "luJerOGxr2nM"
      }
    },
    {
      "cell_type": "code",
      "execution_count": 22,
      "metadata": {
        "collapsed": true,
        "id": "hk0JJY1Of0Xg"
      },
      "outputs": [],
      "source": [
        "for temp in range(1, tmax, 10):\n",
        "    a = 1.0\n",
        "    b = (1.0/n)*(((2.0*math.pi*m_e*k*temp)/h**2.0)**(3.0/2.0))*np.exp(-13.6/(k_ev*temp))\n",
        "    c = -((1.0/n)*(((2.0*math.pi*m_e*k*temp)/h**2.0)**(3.0/2.0))*np.exp(-13.6/(k_ev*temp)))\n",
        "    x = ((-1*b)+(math.sqrt((b**2.0)-(4.0*a*c))))/(2.0*a)\n",
        "    t.append(temp)\n",
        "    f_x.append(x)"
      ]
    },
    {
      "cell_type": "markdown",
      "metadata": {
        "id": "TtzckXG4f0Xg"
      },
      "source": [
        "## Plotting\n",
        "\n",
        "Below is a simple plotting routine that will plot your expression for the ionization fraction of Hydrogen."
      ]
    },
    {
      "cell_type": "code",
      "execution_count": 23,
      "metadata": {
        "collapsed": true,
        "id": "lDUsIttUf0Xg",
        "colab": {
          "base_uri": "https://localhost:8080/",
          "height": 472
        },
        "outputId": "e659318a-ca67-4aa2-9ac8-f562b8010939"
      },
      "outputs": [
        {
          "output_type": "display_data",
          "data": {
            "text/plain": [
              "<Figure size 640x480 with 1 Axes>"
            ],
            "image/png": "[encoded data removed]"
          },
          "metadata": {}
        }
      ],
      "source": [
        "plt.plot(t, f_x)\n",
        "plt.xlabel(\"Time\")\n",
        "plt.ylabel(\"Ionization Energy\")\n",
        "plt.title(\"Hydrogen Ionization Energy\")\n",
        "plt.savefig(\"confeiteiro_hion.png\")\n",
        "plt.show()"
      ]
    },
    {
      "cell_type": "markdown",
      "metadata": {
        "collapsed": true,
        "id": "lQGSleE5f0Xg"
      },
      "source": [
        "## $\\color{blue}{\\text{Your turn}}$\n",
        "\n",
        "1. Edit the plotting routine to include a plot, $x$-axis, and $y$-axis titles.\n",
        "\n",
        "2. Save the figure to a file, either by using the save icon or with the code `plt.savefig('<yourlastname>_hion.png')`.\n",
        "\n",
        "3. Add a Markdown cell below and answer the question: Approximately at what temperature does hydrogen become fully ionized?\n",
        "\n",
        "4. Upload you notebook and any relevant files (e.g. hion.png) to your portfolio folder.\n"
      ]
    },
    {
      "cell_type": "markdown",
      "source": [
        "# My Answers\n",
        "##  Class Info\n",
        "- Krystian Confeiteiro\n",
        "- 09/20/2023\n",
        "- PS401-02DB\n",
        "- Dr. Caballero-Nieves\n",
        "\n",
        "## Assignment Answers\n",
        "### Prompt\n",
        "> *Approximately at what temperature does hydrogen become fully ionized?*\n",
        "\n",
        "### My Answer\n",
        "According to the plot, the hydrogen becomes fully ionized at around 1150 degrees Kelvin."
      ],
      "metadata": {
        "id": "ZO-mIwH9S-fs"
      }
    }
  ],
  "metadata": {
    "kernelspec": {
      "display_name": "Python 3",
      "language": "python",
      "name": "python3"
    },
    "language_info": {
      "codemirror_mode": {
        "name": "ipython",
        "version": 3
      },
      "file_extension": ".py",
      "mimetype": "text/x-python",
      "name": "python",
      "nbconvert_exporter": "python",
      "pygments_lexer": "ipython3",
      "version": "3.6.7"
    },
    "colab": {
      "provenance": []
    }
  },
  "nbformat": 4,
  "nbformat_minor": 0
}