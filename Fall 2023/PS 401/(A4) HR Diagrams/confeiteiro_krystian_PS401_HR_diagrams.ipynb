{
  "cells": [
    {
      "cell_type": "markdown",
      "source": [
        "# Stellar Atmosphere Modeling\n"
      ],
      "metadata": {
        "id": "s5HDRGz8juIx"
      }
    },
    {
      "cell_type": "markdown",
      "source": [
        "## Assignmen Outline"
      ],
      "metadata": {
        "id": "oF9coohQInET"
      }
    },
    {
      "cell_type": "markdown",
      "source": [
        "The [Geneva stellar evolutionary tracks](https://www.unige.ch/sciences/astro/evolution/en/research/geneva-grids-stellar-evolution-models/#grids92) provide a model grid of stellar parameters in different stages of a stars evolution.\n",
        "\n",
        "The different models contain information for\n",
        "\n",
        "- isochrones (**same age**, different masses) and\n",
        "- evolutionary tracks (**one mass** over time)."
      ],
      "metadata": {
        "id": "V4Isz8quInGd"
      }
    },
    {
      "cell_type": "markdown",
      "source": [
        "## Getting The Data"
      ],
      "metadata": {
        "id": "1_uofn5LIBzD"
      }
    },
    {
      "cell_type": "markdown",
      "source": [
        "For this assignment, we will use Grids of Stellar Models with Rotation, primarily using solar abundance models $(Z = 0.014)$.\n",
        "\n",
        "You can download the tracks and isochrone grid on [VizieR](http://vizier.u-strasbg.fr/viz-bin/VizieR-3?-source=J/A%2bA/537/A146&-out.max=50&-out.form=HTML%20Table&-out.add=_r&-out.add=_RAJ,_DEJ&-sort=_r&-oc.form=sexa).\n",
        "\n",
        "To limit the output, you will need to specify:\n",
        "\n",
        "- $Z = 0.014$ (and select it)\n",
        "- Specify rotation models\n",
        "- For isochrones: enter the age as $\\log(t)$ in years. Example: for a $3\\text{ Myr}$ isochrone, enter $6.5$\n",
        "- For evolutionary tracks: enter the initial mass in solar masses\n",
        "- Output the information in some plain text/ASCII friendly format (e.g. Tab separated, `;` separated, ascii text/plain) that will be downloaded. The default is an HTML table."
      ],
      "metadata": {
        "id": "UgG_XmQpIB1n"
      }
    },
    {
      "cell_type": "markdown",
      "source": [
        "## Assignment Deliverables"
      ],
      "metadata": {
        "id": "T2JRGW8MInRf"
      }
    },
    {
      "cell_type": "markdown",
      "source": [
        "With this information, I would like you to create **one** H-R diagram with the following:\n",
        "\n",
        "1. The ZAMS over the mass range provided ($0.8-120\\text{ M}_\\odot$)\n",
        "2. Denote where the Sun is located on the H-R diagram\n",
        "3. Isochrones over a sampling of the available ages (e.g. $\\log (t) = 6.5,\\space 7.5,\\space 8.5,\\space 9.5,\\space 10.1\\text{ yr})$, showing how the Main Sequence changes over time.\n",
        "4. Choose the evolutionary track of one star with $\\text{M} \\lt 8\\text{M}_\\odot$ and another with $\\text{M} \\gt 8\\text{M}_\\odot$, plot and label the tracks of these stars. Some accepted values for masses are: $0.8,\\space 0.9,\\space 1,\\space 1.1,\\space 1.25,\\space 1.35,\\space 1.5,\\space 3,\\space 4,\\space 7,\\space 20,\\space 25,\\space 32,\\space 85,\\space \\&\\space 120$.\n",
        "\n",
        "Here is the [Jupyter Notebook (Google Colab)](https://drive.google.com/file/d/1WssGOFCsTnR66wHuPvpj1CHhfeKfyZWP/view?usp=sharing) to get you started. Make sure to include any references you use in creating this plot (e.g. solar values for Luminosity and temperature)."
      ],
      "metadata": {
        "id": "mW9TLSoxIG22"
      }
    },
    {
      "cell_type": "markdown",
      "source": [
        "## Assignment Checklist"
      ],
      "metadata": {
        "id": "DhDYHnODizJe"
      }
    },
    {
      "cell_type": "markdown",
      "source": [
        "- [x]  Download data for isochrones and tracks (you can find the data I used [here](https://drive.google.com/drive/folders/1mQtRIIfWzJttUARNFIRKZ3fVu0-l4OgN?usp=sharing))\n",
        "- [x]  Create one H-R diagram with the ZAMS over the mass range provided\n",
        "- [x]  Denote where the Sun is located on the H-R diagram\n",
        "- [x]  Plot isochrones over a sampling of the available ages\n",
        "- [x]  Choose the evolutionary track of one star with $M \\lt 8M_\\odot$ and another with $M \\gt 8M_\\odot$, plot and label the tracks of these stars\n",
        "- [x]  Include any references used in creating the plot"
      ],
      "metadata": {
        "id": "IGKXD3hikHAG"
      }
    },
    {
      "cell_type": "markdown",
      "source": [
        "# Code"
      ],
      "metadata": {
        "id": "GXrqG7rJLkl7"
      }
    },
    {
      "cell_type": "code",
      "source": [
        "import os\n",
        "from google.colab import drive\n",
        "import matplotlib.pyplot as plt\n",
        "import pandas as pd\n",
        "import numpy as np\n",
        "\n",
        "# mount Google Drive\n",
        "drive.mount('/content/drive', force_remount=True)"
      ],
      "metadata": {
        "colab": {
          "base_uri": "https://localhost:8080/"
        },
        "id": "UK3H5zhUjeiu",
        "outputId": "366fd187-e674-4bdb-fddc-8fb9ee0fc4f2"
      },
      "execution_count": null,
      "outputs": [
        {
          "output_type": "stream",
          "name": "stdout",
          "text": [
            "Mounted at /content/drive\n"
          ]
        }
      ]
    },
    {
      "cell_type": "markdown",
      "source": [
        "## Define Functions"
      ],
      "metadata": {
        "id": "QLz1csZJr2Ft"
      }
    },
    {
      "cell_type": "code",
      "source": [
        "# define function to read data\n",
        "def read_data(\n",
        "    filenames,\n",
        "    columns=None,\n",
        "    labels=None,\n",
        "    as_type=None,\n",
        "    skip_rows=2,\n",
        "    **kwargs,\n",
        "):\n",
        "    read_data = []\n",
        "    for i, file in enumerate(filenames):\n",
        "        DATA = pd.read_csv(file, **kwargs)\n",
        "\n",
        "        if skip_rows:\n",
        "            DATA = DATA.iloc[skip_rows:, :]\n",
        "            DATA = DATA.reset_index()\n",
        "\n",
        "        if columns:\n",
        "            DATA = DATA[columns]\n",
        "\n",
        "        if as_type:\n",
        "            DATA = DATA.astype(as_type)\n",
        "\n",
        "        if labels:\n",
        "            DATA[\"Sort\"] = labels[i]\n",
        "\n",
        "        read_data.append(DATA)\n",
        "\n",
        "    return read_data if len(filenames) > 1 else read_data[0]\n",
        "\n",
        "# define helper function to list a directory to read files\n",
        "def list_dir(rel_path):\n",
        "    ABS = os.path.abspath(rel_path)\n",
        "    listed_paths = os.listdir(rel_path)\n",
        "    prepend = lambda path: os.path.join(ABS, path)\n",
        "    return list(map(prepend, listed_paths))\n",
        "\n",
        "# define function to unpack each column of a dataframe\n",
        "def separate(dataframe):\n",
        "    return tuple(dataframe[col] for col in dataframe.columns)\n",
        "\n",
        "\n",
        "# define function to fix the formatting of data\n",
        "def fix_data(*dataframes):\n",
        "    returns = []\n",
        "    for data in dataframes:\n",
        "        data.sort_values(data.columns[0], inplace=True)\n",
        "        data = data.astype(np.float64)\n",
        "        data = (data.iloc[:, 1], data.iloc[:, 0])\n",
        "        returns.append(data)\n",
        "\n",
        "    return tuple(returns)\n"
      ],
      "metadata": {
        "id": "8hWipgtbr2Ow"
      },
      "execution_count": null,
      "outputs": []
    },
    {
      "cell_type": "markdown",
      "source": [
        "## Code Configuration"
      ],
      "metadata": {
        "id": "bachDAiir6-m"
      }
    },
    {
      "cell_type": "code",
      "source": [
        "CONFIG = {\n",
        "    \"isochrones\": {\n",
        "        \"paths\": list_dir(\"/content/drive/MyDrive/006_Courses/PS_401/A04_HR_diagrams/DATA/ISOCHRONES\"),\n",
        "        \"ages\": \"6.5 7.5 8.5 9.5 10.1\".split(),\n",
        "    },\n",
        "    \"tracks\": {\n",
        "        \"paths\": list_dir(\"/content/drive/MyDrive/006_Courses/PS_401/A04_HR_diagrams/DATA/EVOLUTION_TRACKS\"),\n",
        "        \"masses\": \"0.8 0.9 1 1.1 1.25 1.35 1.5 3 4 7 20 25 32 85 120\".split(),\n",
        "    },\n",
        "    \"read kwargs\": {\"delim_whitespace\": True, \"comment\": \"#\", \"on_bad_lines\": \"skip\"},\n",
        "    \"plotted columns\": [\"logL\", \"logTe\"],\n",
        "    \"axis labels\": (r\"$\\log(L)$\", r\"$\\log(T_{eff})$\"),\n",
        "    \"colors\": \"c blue pink g m\".split(),\n",
        "    \"sun vals\": (3.761, 0),\n",
        "}"
      ],
      "metadata": {
        "id": "sxKTDf-pr7Dj"
      },
      "execution_count": null,
      "outputs": []
    },
    {
      "cell_type": "markdown",
      "source": [
        "## Read Data & Prepare For Plotting\n"
      ],
      "metadata": {
        "id": "RLr6vu2wZyy3"
      }
    },
    {
      "cell_type": "code",
      "source": [
        "track0, track1, track2, track3, track4 = fix_data(\n",
        "    *tuple(\n",
        "        read_data(\n",
        "            CONFIG[\"isochrones\"][\"paths\"],\n",
        "            columns=CONFIG[\"plotted columns\"],\n",
        "            **CONFIG[\"read kwargs\"],\n",
        "        )\n",
        "    )\n",
        ")\n",
        "\n",
        "track_data_ZAMS = pd.concat(\n",
        "    read_data(\n",
        "        CONFIG[\"tracks\"][\"paths\"],\n",
        "        columns=CONFIG[\"plotted columns\"],\n",
        "        **CONFIG[\"read kwargs\"],\n",
        "    ),\n",
        ")\n",
        "\n",
        "\n",
        "ZAMS = (track_data_ZAMS.iloc[:, 1], track_data_ZAMS.iloc[:, 0])"
      ],
      "metadata": {
        "id": "bBx_ZhRIZy3m"
      },
      "execution_count": null,
      "outputs": []
    },
    {
      "cell_type": "markdown",
      "source": [
        "## Plot Data"
      ],
      "metadata": {
        "id": "DsutGB4YZ8Fa"
      }
    },
    {
      "cell_type": "code",
      "source": [
        "# create plot figure\n",
        "fig, axes = plt.subplots()\n",
        "\n",
        "# plot isochrones\n",
        "axes.plot(*track0, label=r\"$6.5$ yrs\")\n",
        "axes.plot(*track1, label=r\"$7.5$ yrs\")\n",
        "axes.plot(*track2, label=r\"$8.5$ yrs\")\n",
        "axes.plot(*track3, label=r\"$9.5$ yrs\")\n",
        "axes.plot(*track4, label=r\"$10.1$ yrs\")\n",
        "axes.plot(*CONFIG[\"sun vals\"], \"y\", marker=\"o\", markersize=8, label=\"The Sun\")\n",
        "# axes.plot(*ZAMS, label=\"ZAMS\")\n",
        "\n",
        "# set title and axes labels\n",
        "axes.set_title(\"Hertzsprung–Russell Diagram\")\n",
        "axes.set_ylabel(r\"Luminosity - $L$ [W]\")\n",
        "axes.set_xlabel(r\"$T_{eff}$ [K]\")\n",
        "axes.invert_xaxis()\n",
        "axes.legend()"
      ],
      "metadata": {
        "id": "UMZgqr4XZ8J8",
        "colab": {
          "base_uri": "https://localhost:8080/",
          "height": 492
        },
        "outputId": "bda7693c-bce4-4040-8b69-70b4c65e4932"
      },
      "execution_count": null,
      "outputs": [
        {
          "output_type": "execute_result",
          "data": {
            "text/plain": [
              "<matplotlib.legend.Legend at 0x7901bb1d1a50>"
            ]
          },
          "metadata": {},
          "execution_count": 45
        },
        {
          "output_type": "display_data",
          "data": {
            "text/plain": [
              "<Figure size 640x480 with 1 Axes>"
            ],
            "image/png": "[encoded data removed]"
          },
          "metadata": {}
        }
      ]
    },
    {
      "cell_type": "markdown",
      "source": [
        "# Problem Answers"
      ],
      "metadata": {
        "id": "PUxKkKAgsPmH"
      }
    },
    {
      "cell_type": "markdown",
      "source": [
        "## Question 1"
      ],
      "metadata": {
        "id": "ng5uQN4bsS0H"
      }
    },
    {
      "cell_type": "markdown",
      "source": [
        "<u>**Prompt**</u>:\n",
        "> *What information from the models do you need to build your ZAMS?*\n",
        "\n",
        "<u>**My Response**</u>:\n",
        "> To build the data form the zero-age main sequence stars (ZAMS), it requires the initial temperature, $T_\\text{eff}$,  and luminosity, $L$, where you will combine all of the data files into a single `pd.DataFrame()` object to then plot in the HR diagram."
      ],
      "metadata": {
        "id": "MHNAAAqssnSP"
      }
    },
    {
      "cell_type": "markdown",
      "source": [
        "## Question 2\n"
      ],
      "metadata": {
        "id": "OBA_75b7scTK"
      }
    },
    {
      "cell_type": "markdown",
      "source": [
        "<u>**Prompt**</u>:\n",
        "> *What information about the Sun do you need to include it on your HR-Diagram? Provide your reference for this information.*\n",
        "\n",
        "<u>**My Response**</u>:\n",
        "> Including the Sun on the HR-Diagram requires the luminosity and effective temperature $(T_\\text{eff}$ and $L)$ values, gathered from NASA's official website. These will then be used to plot the single point in the HR diagram."
      ],
      "metadata": {
        "id": "XCxyydk6sjQm"
      }
    }
  ],
  "metadata": {
    "kernelspec": {
      "display_name": "Python 3",
      "language": "python",
      "name": "python3"
    },
    "language_info": {
      "codemirror_mode": {
        "name": "ipython",
        "version": 3
      },
      "file_extension": ".py",
      "mimetype": "text/x-python",
      "name": "python",
      "nbconvert_exporter": "python",
      "pygments_lexer": "ipython3",
      "version": "3.6.12"
    },
    "colab": {
      "provenance": [],
      "collapsed_sections": [
        "s5HDRGz8juIx"
      ]
    }
  },
  "nbformat": 4,
  "nbformat_minor": 0
}