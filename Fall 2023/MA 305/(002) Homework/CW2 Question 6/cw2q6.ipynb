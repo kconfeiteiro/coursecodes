{
  "cells": [
    {
      "cell_type": "markdown",
      "metadata": {},
      "source": [
        "# Classwork 2, Question 6\n",
        "| Topic | Information |\n",
        "| --------  |  -------- |\n",
        "| Student | Krystian Confeiteiro |\n",
        "| Professor  | Dr. Sam |\n",
        "| Course     | MA 305 - 06DB |\n",
        "| Assignment | Classwork 2, Question 6 |\n",
        "| Date       | 10/03/2023 |\n",
        "\n",
        "## Assignment Objective\n",
        "The sum of the [alternating series](https://en.wikipedia.org/wiki/Alternating_series) (**1.c**) can be found by putting $x = 1$ in the following [Taylor series](https://en.wikipedia.org/wiki/Taylor_series) formula,\n",
        "\\begin{equation}\n",
        "    \\ln{\\left(1+x\\right)} = x-\\frac{x^2}{2}+\\frac{x^3}{4}+\\cdots + \\frac{(-1)^{n+1}x^n}{n}+\\cdots\\space .\n",
        "\\end{equation}\n",
        "\n",
        "Determine the number of terms required to approximate the [sum of the series](https://www.bing.com/ck/a?!&&p=5925e73f3861db2eJmltdHM9MTY5NjI5MTIwMCZpZ3VpZD0wN2I2ZmNiNy0yOGM1LTZjYWQtMTU4NC1lZjI5MjlkMjZkMjkmaW5zaWQ9NTIxMg&ptn=3&hsh=3&fclid=07b6fcb7-28c5-6cad-1584-ef2929d26d29&psq=sum+of+a+geometric+series+site%3awikipedia.org&u=a1aHR0cHM6Ly9lbi53aWtpcGVkaWEub3JnL3dpa2kvR2VvbWV0cmljX3Nlcmllcw&ntb=1),\n",
        "\n",
        "\\begin{equation}\n",
        "    S=1-\\frac{1}{2}+\\frac{1}{3}-\\cdots + \\frac{(-1)^{n+1}}{n}+\\cdots=\\ln{(2)},\n",
        "\\end{equation}\n",
        "\n",
        "within $0.1$\\% error. Does your result agree with the fact (from Calculus II) that the [error of approximation to the sum of a convergent alternating series](https://personal.math.ubc.ca/~CLP/CLP1/clp_1_dc/ssec_taylor_error.html) (and [Absolute Convergance with Error Bounds](https://personal.math.ubc.ca/~CLP/CLP1/clp_1_dc/ssec_taylor_error.html)) cannot exceed the absolute value of the first neglected term in the series?\n",
        "\n",
        "# Supplementary Theory\n",
        "## Standard Deviation & Error Margin\n",
        "Starting with a [basic equation](https://datascienceparichay.com/article/calculate-standard-deviation-in-python/),\n",
        "\n",
        "\\begin{equation}\n",
        "    \\text{Margin of Error}=\\frac{Z\\sigma}{\\sqrt{n}},\n",
        "\\end{equation}\n",
        "\n",
        "where \n",
        "\n",
        "\\begin{align*}\n",
        "    Z &= \\text{critical factor}, \\\\\n",
        "    \\sigma &= \\text{population standard deviation}, \\\\\n",
        "    n &= \\text{sample size},\n",
        "\\end{align*}\n",
        "\n",
        "and, the [standard deviation](https://en.wikipedia.org/wiki/Standard_deviation) is calculated with\n",
        "\n",
        "\\begin{equation}\n",
        "    \\sigma = \\sqrt{\\frac{\\sum (x_i-\\mu)^2}{N}}\n",
        "\\end{equation}\n",
        "\n",
        "where\n",
        "\n",
        "\\begin{align*}\n",
        "    \\sigma &= \\text{population standard deviation}, \\\\\n",
        "    x_i &= \\text{$i^{th}$ component of sample dataset}, \\\\ \n",
        "    \\mu &= \\text{population mean}, \\\\ \n",
        "    N &= \\text{population size}.\n",
        "\\end{align*}\n",
        "\n",
        "Using these together, we will calculate the [error margin](https://en.wikipedia.org/wiki/Margin_of_error) of the dataset.\n"
      ]
    },
    {
      "cell_type": "code",
      "execution_count": 6,
      "metadata": {},
      "outputs": [
        {
          "name": "stdout",
          "output_type": "stream",
          "text": [
            "\n",
            "Series type: Alternating series\n",
            "Margin of error: 0.001\n",
            "\n"
          ]
        }
      ],
      "source": [
        "from math import e, log, sqrt\n",
        "\n",
        "\n",
        "# define function for the series\n",
        "def alternating_series(n):\n",
        "    return sum((((-1) ** (i + 1)) / i) for i in range(1, n))\n",
        "\n",
        "\n",
        "# define function for the population mean\n",
        "def pop_mean(data):\n",
        "    data = map(lambda x: float(x), data)\n",
        "    pop_average = sum(data) / len(data)\n",
        "    return sqrt((sum((i - pop_average) ** 2) for i in data) / len(data))\n",
        "\n",
        "\n",
        "# define function for the population standard deviation\n",
        "def pop_stddev(data):\n",
        "    data = map(lambda x: float(x), data)\n",
        "    return sqrt((sum(((i - pop_mean(data)) ** 2) / (len(data) - 1) for i in data)))\n",
        "\n",
        "\n",
        "# define function for the error margin (I will assume the critical factor to be 1)\n",
        "def error_margin(data, crit_factor=1):\n",
        "    data = map(lambda x: float(x), data)\n",
        "    return (crit_factor * pop_stddev(data)) / sqrt(len(data))\n",
        "\n",
        "\n",
        "# define constants and next steps\n",
        "LN_2 = log(2)\n",
        "MARGIN_OF_ERROR = 0.001\n",
        "print(\n",
        "    f\"\"\"\n",
        "Series type: Alternating series\n",
        "Margin of error: {MARGIN_OF_ERROR}\n",
        "\"\"\"\n",
        ")"
      ]
    },
    {
      "cell_type": "markdown",
      "metadata": {},
      "source": [
        "## Determining Number of Terms\n",
        "Then, we use a `while` loop to determine the maximum number of terms needed to get within a $0.1$% error margin."
      ]
    },
    {
      "cell_type": "code",
      "execution_count": 7,
      "metadata": {},
      "outputs": [
        {
          "name": "stdout",
          "output_type": "stream",
          "text": [
            "Data: \n",
            " 0.698172179310195\n",
            "\n",
            "Data stats:\n",
            "-------------\n"
          ]
        },
        {
          "ename": "TypeError",
          "evalue": "'float' object is not iterable",
          "output_type": "error",
          "traceback": [
            "\u001b[1;31m---------------------------------------------------------------------------\u001b[0m",
            "\u001b[1;31mTypeError\u001b[0m                                 Traceback (most recent call last)",
            "\u001b[1;32mc:\\Users\\confeitk\\Downloads\\UndergradCodingWorkERAU24\\Fall 2023\\MA 305\\Homework\\CW2 Question 6\\cw2q6.ipynb Cell 4\u001b[0m line \u001b[0;36m7\n\u001b[0;32m      <a href='vscode-notebook-cell:/c%3A/Users/confeitk/Downloads/UndergradCodingWorkERAU24/Fall%202023/MA%20305/Homework/CW2%20Question%206/cw2q6.ipynb#W3sZmlsZQ%3D%3D?line=4'>5</a>\u001b[0m \u001b[39mprint\u001b[39m(\u001b[39m\"\u001b[39m\u001b[39m\\n\u001b[39;00m\u001b[39mData stats:\u001b[39m\u001b[39m\"\u001b[39m)\n\u001b[0;32m      <a href='vscode-notebook-cell:/c%3A/Users/confeitk/Downloads/UndergradCodingWorkERAU24/Fall%202023/MA%20305/Homework/CW2%20Question%206/cw2q6.ipynb#W3sZmlsZQ%3D%3D?line=5'>6</a>\u001b[0m \u001b[39mprint\u001b[39m(\u001b[39m\"\u001b[39m\u001b[39m-------------\u001b[39m\u001b[39m\"\u001b[39m)\n\u001b[1;32m----> <a href='vscode-notebook-cell:/c%3A/Users/confeitk/Downloads/UndergradCodingWorkERAU24/Fall%202023/MA%20305/Homework/CW2%20Question%206/cw2q6.ipynb#W3sZmlsZQ%3D%3D?line=6'>7</a>\u001b[0m \u001b[39mprint\u001b[39m(\u001b[39mf\u001b[39m\u001b[39m\"\u001b[39m\u001b[39mStd dev: \u001b[39m\u001b[39m{\u001b[39;00mpop_stddev(data)\u001b[39m}\u001b[39;00m\u001b[39m\"\u001b[39m)\n\u001b[0;32m      <a href='vscode-notebook-cell:/c%3A/Users/confeitk/Downloads/UndergradCodingWorkERAU24/Fall%202023/MA%20305/Homework/CW2%20Question%206/cw2q6.ipynb#W3sZmlsZQ%3D%3D?line=7'>8</a>\u001b[0m \u001b[39mprint\u001b[39m(\u001b[39mf\u001b[39m\u001b[39m\"\u001b[39m\u001b[39mError marign: \u001b[39m\u001b[39m{\u001b[39;00merror_margin(data)\u001b[39m}\u001b[39;00m\u001b[39m\"\u001b[39m)\n\u001b[0;32m      <a href='vscode-notebook-cell:/c%3A/Users/confeitk/Downloads/UndergradCodingWorkERAU24/Fall%202023/MA%20305/Homework/CW2%20Question%206/cw2q6.ipynb#W3sZmlsZQ%3D%3D?line=8'>9</a>\u001b[0m \u001b[39mprint\u001b[39m(\u001b[39mf\u001b[39m\u001b[39m\"\u001b[39m\u001b[39mPopulation mean: \u001b[39m\u001b[39m{\u001b[39;00mpop_mean(data)\u001b[39m}\u001b[39;00m\u001b[39m\"\u001b[39m)\n",
            "\u001b[1;32mc:\\Users\\confeitk\\Downloads\\UndergradCodingWorkERAU24\\Fall 2023\\MA 305\\Homework\\CW2 Question 6\\cw2q6.ipynb Cell 4\u001b[0m line \u001b[0;36m1\n\u001b[0;32m     <a href='vscode-notebook-cell:/c%3A/Users/confeitk/Downloads/UndergradCodingWorkERAU24/Fall%202023/MA%20305/Homework/CW2%20Question%206/cw2q6.ipynb#W3sZmlsZQ%3D%3D?line=16'>17</a>\u001b[0m \u001b[39mdef\u001b[39;00m \u001b[39mpop_stddev\u001b[39m(data):\n\u001b[1;32m---> <a href='vscode-notebook-cell:/c%3A/Users/confeitk/Downloads/UndergradCodingWorkERAU24/Fall%202023/MA%20305/Homework/CW2%20Question%206/cw2q6.ipynb#W3sZmlsZQ%3D%3D?line=17'>18</a>\u001b[0m     data \u001b[39m=\u001b[39m \u001b[39mmap\u001b[39;49m(\u001b[39mlambda\u001b[39;49;00m x: \u001b[39mfloat\u001b[39;49m(x), data)\n\u001b[0;32m     <a href='vscode-notebook-cell:/c%3A/Users/confeitk/Downloads/UndergradCodingWorkERAU24/Fall%202023/MA%20305/Homework/CW2%20Question%206/cw2q6.ipynb#W3sZmlsZQ%3D%3D?line=18'>19</a>\u001b[0m     \u001b[39mreturn\u001b[39;00m sqrt((\u001b[39msum\u001b[39m(((i \u001b[39m-\u001b[39m pop_mean(data)) \u001b[39m*\u001b[39m\u001b[39m*\u001b[39m \u001b[39m2\u001b[39m) \u001b[39m/\u001b[39m (\u001b[39mlen\u001b[39m(data) \u001b[39m-\u001b[39m \u001b[39m1\u001b[39m) \u001b[39mfor\u001b[39;00m i \u001b[39min\u001b[39;00m data)))\n",
            "\u001b[1;31mTypeError\u001b[0m: 'float' object is not iterable"
          ]
        }
      ],
      "source": [
        "import numpy as np\n",
        "\n",
        "data = alternating_series(100)\n",
        "print(\"Data: \\n\", data)\n",
        "print(\"\\nData stats:\")\n",
        "print(\"-------------\")\n",
        "print(f\"Std dev: {pop_stddev(data)}\")\n",
        "print(f\"Error marign: {error_margin(data)}\")\n",
        "print(f\"Population mean: {pop_mean(data)}\")"
      ]
    }
  ],
  "metadata": {
    "kernelspec": {
      "display_name": "Python 3",
      "language": "python",
      "name": "python3"
    },
    "language_info": {
      "codemirror_mode": {
        "name": "ipython",
        "version": 3
      },
      "file_extension": ".py",
      "mimetype": "text/x-python",
      "name": "python",
      "nbconvert_exporter": "python",
      "pygments_lexer": "ipython3",
      "version": "3.11.4"
    },
    "orig_nbformat": 4
  },
  "nbformat": 4,
  "nbformat_minor": 2
}
