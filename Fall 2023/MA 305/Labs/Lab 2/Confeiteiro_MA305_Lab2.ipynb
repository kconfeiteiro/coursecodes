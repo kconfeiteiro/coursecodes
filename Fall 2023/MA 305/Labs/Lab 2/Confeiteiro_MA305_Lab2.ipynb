{
  "cells": [
    {
      "cell_type": "markdown",
      "metadata": {
        "id": "yk3MvvO8jXmF"
      },
      "source": [
        "# Lab 2\n",
        "## Assignment Information\n",
        "\n",
        "| Topic | Information |\n",
        "|  --------  |  -------- |\n",
        "| Name       | Krystian Ojeda Confeiteiro |\n",
        "| Professor  | Dr. Sam |\n",
        "| Course     | MA 305 - Section 6 |\n",
        "| Assignment | Lab 2 |\n",
        "| Due        | 10/04/2023 |\n",
        "| Date       | 10/04/2023 |\n",
        "\n",
        "# Assignment Details\n",
        "# MA 305-06DB -- Lab #2\n",
        "\n",
        "## Objective\n",
        "\n",
        "The [Lab 2 Canvas Assignment page](https://erau.instructure.com/courses/163847/assignments/3258611#submit) states:\n",
        "\n",
        "> *Writing a program involves several steps: thinking, deciding what needs to be done, organizing the tasks into an algorithm on paper, translating to computer language on paper, executing it on paper, thinking, ... before you even sit in front of the computer...*\n",
        "\n",
        "## Problem 1\n",
        "The square root of a real number $(p > 0)$, can be approximated by the limit of the following sequence, the *Babylonian algorithm*;\n",
        "\n",
        "\\begin{equation*}\n",
        "    x_{n+1} = \\frac{1}{2} \\left( x_n + \\frac{p}{x_n} \\right) \\approx \\sqrt{p} \\quad \\text{as} \\quad n \\rightarrow \\infty .\n",
        "\\end{equation*}\n",
        "\n",
        "Write a script in Python to implement this algorithm (with $x_0$ as the **initial guess**) and compare your result with the \"exact\" answer provided by the `math.sqrt(p)`. Outlined below are the steps to be done:\n",
        "\n",
        "1. First, perform three iterations of this algorithm for computing the square root of $p = 4$, starting with the initial guess $x_0 = 1$ (by hand *and* on paper).\n",
        "2. Construct the algorithm: On a sheet of paper, write the tasks that must be performed (request value from the user, read it in, set it equal to $x_n$, & calculate the new values $x_{n + 1}$ iteratively as a sequence of steps).\n",
        "3. How do you decide when to break the iterations? Well, we must choose a pre-specified error tolerance. How do you compute an error if the exact root is not known? Use the following stopping criteria in your code:\n",
        "\n",
        "    \\begin{equation*}\n",
        "        |x_{n+1} - x_n| < \\frac{1}{2} \\times 10^{-14} \\quad\\text{or}\\quad \\frac{|x_{n+1} - x_n|}{|x_n|} < \\frac{1}{2} \\times 10^{-6} .\n",
        "    \\end{equation*}\n",
        "\n",
        "4. Decide what are the main variables, name them, which one(s) are input (to be read in), and which ones are output (to be determined by the program). Your program should also print the input data so that we will know what input produced the output.\n",
        "5. Translate each task into a Python statement. Be careful how you write the numbers, arithmetic operators, precedence, iterations (`for` or `while` loops), comparison operators, and control flow (`if`, `then`, & `else` statements).\n",
        "6. Assemble the pieces into a complete Python code, still on paper, with comments and everything needed. Use formatting of the numbers to display your output nicely.\n",
        "\n",
        "## My Adjustments\n"
      ]
    },
    {
      "cell_type": "code",
      "execution_count": null,
      "metadata": {},
      "outputs": [],
      "source": [
        "from math import sqrt\n",
        "\n",
        "\n",
        "# define function to approximate the squart root\n",
        "def approx_sqrt(\n",
        "    start: int = None,\n",
        "    precision: float = 1e-14,\n",
        "):\n",
        "    \"\"\"\n",
        "    Approximate the square root of a numbe using the Babylonian Algorithm.\n",
        "\n",
        "    Variables:\n",
        "        - n_terms => n\n",
        "        - precision => values from part 3\n",
        "        - guess => x_0\n",
        "\n",
        "    Args:\n",
        "        n_terms (float, optional): Number of terms. Defaults to None.\n",
        "        precision (float, optional): Presion you want to evaluate the algorithm with. Defaults to 1e-14.\n",
        "        guess (float, optional): Initial guess of square root value. Defaults to None.\n",
        "    \"\"\"\n",
        "    babylon = lambda x: 0.5 * (x + (start / x))\n",
        "    x_0 = start / 2\n",
        "    count = 1\n",
        "    while abs(x_0**2 - start) < precision:\n",
        "        x_0 = babylon(x_0)\n",
        "        count += 1\n",
        "\n",
        "    return x_0, count\n",
        "\n",
        "\n",
        "test, count = approx_sqrt(\n",
        "    5,\n",
        "    10e4,\n",
        ")\n",
        "\n",
        "print(\"Total # iterations: \", count)\n",
        "print(\"Approximated sqrt(5): \", test)\n",
        "print(\"Actual sqrt(5): \", round(sqrt(5), 4))"
      ]
    },
    {
      "cell_type": "markdown",
      "metadata": {},
      "source": [
        "## Extra Credit - Problem 8\n",
        "\n",
        "Modify your code `lab2.py` and write another program, named `lab2a.py`, to calculate the *arithmetic-geometric mean* (`agm`) of two numbers, $x$ and $y$, defined by the limit of the sequences:\n",
        "\n",
        "\\begin{align*}\n",
        "    x_{n+1} &= \\frac{1}{2}(x_n + y_n),\\quad\\text{and} \\\\\n",
        "    y_{n+1} &= \\sqrt{x_n y_n}, \n",
        "\\end{align*}\n",
        "\n",
        "starting with $x_0$ and $y_0$. Both sequences converge to the same number, denoted by `agm(x, y)`. Use this program to determine the Gauss's constant, $G = \\left({\\text{agm}\\left(1, \\sqrt{2}\\right)}\\right)^{-1}$. (Use the function `math.sqrt` to compute $\\sqrt{x_n y_n}$).\n"
      ]
    }
  ],
  "metadata": {
    "colab": {
      "provenance": []
    },
    "kernelspec": {
      "display_name": "Python 3",
      "name": "python3"
    },
    "language_info": {
      "codemirror_mode": {
        "name": "ipython",
        "version": 3
      },
      "file_extension": ".py",
      "mimetype": "text/x-python",
      "name": "python",
      "nbconvert_exporter": "python",
      "pygments_lexer": "ipython3",
      "version": "3.11.4"
    }
  },
  "nbformat": 4,
  "nbformat_minor": 0
}
