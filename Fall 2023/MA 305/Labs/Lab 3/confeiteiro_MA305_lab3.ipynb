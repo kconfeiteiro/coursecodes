{
  "nbformat": 4,
  "nbformat_minor": 0,
  "metadata": {
    "colab": {
      "provenance": []
    },
    "kernelspec": {
      "name": "python3",
      "display_name": "Python 3"
    },
    "language_info": {
      "name": "python"
    }
  },
  "cells": [
    {
      "cell_type": "code",
      "execution_count": 56,
      "metadata": {
        "colab": {
          "base_uri": "https://localhost:8080/"
        },
        "id": "EUbwX1JNP-90",
        "outputId": "8fc70165-fdff-4e20-8a29-3ace992d74a3"
      },
      "outputs": [
        {
          "output_type": "stream",
          "name": "stdout",
          "text": [
            "-----------------------------------\n",
            "| FOR CARD: '4737 0260 0957 7922' |\n",
            "-----------------------------------\n",
            "IS VALID: True \n",
            "\n"
          ]
        }
      ],
      "source": [
        "# define function to convert the list of strings into a list of integers\n",
        "int_list = lambda _list: list(map(lambda x: int(x), _list))\n",
        "\n",
        "# define function to prepare the credit card number (Step 1)\n",
        "def _prep_data(cardnum: str = None):\n",
        "    cardnum = cardnum.replace(\" \", \"\")\n",
        "    cardnum = int_list([*cardnum])\n",
        "    return cardnum[::-1]\n",
        "\n",
        "# define function to sum the digits of two-digit number\n",
        "def _sum(number: int = None):\n",
        "    return int(sum(int_list(str(number))))\n",
        "\n",
        "# define function to validate the list of numbers\n",
        "def _test(num_list: list = None):\n",
        "    return True if sum(num_list) % 10 == 0 else False\n",
        "\n",
        "# define function to combine all steps into a single function\n",
        "def validate_card(card_number: str = None):\n",
        "    prepped_data = _prep_data(card_number)\n",
        "    for i in range(1, len(prepped_data), 2):\n",
        "        _num = 2*prepped_data[i]\n",
        "        if _num > 9:\n",
        "            prepped_data[i] = _sum(_num)\n",
        "        else:\n",
        "            prepped_data[i] = _num\n",
        "\n",
        "    _msg = f\"| FOR CARD: '{card_number}' |\"\n",
        "    _dashes = \"-\"*len(_msg)\n",
        "    is_real = _test(prepped_data)\n",
        "\n",
        "    print(f\"{_dashes}\\n{_msg}\\n{_dashes}\")\n",
        "    print(\"IS VALID:\", is_real, \"\\n\")\n",
        "\n",
        "\n",
        "# define credit card number\n",
        "wf_debit_card = \"4737 0260 0957 7922\"\n",
        "\n",
        "# complete step 3 and 4 then print final outcome\n",
        "validate_card(wf_debit_card)"
      ]
    }
  ]
}