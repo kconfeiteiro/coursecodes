{
  "cells": [
    {
      "cell_type": "markdown",
      "metadata": {
        "id": "view-in-github",
        "colab_type": "text"
      },
      "source": [
        "<a href=\"https://colab.research.google.com/github/kconfeiteiro/coursecodes/blob/main/Star_Builda_Without_Extra_Stuff.ipynb\" target=\"_parent\"><img src=\"https://colab.research.google.com/assets/colab-badge.svg\" alt=\"Open In Colab\"/></a>"
      ]
    },
    {
      "cell_type": "code",
      "source": [
        "# @title Enter your name { display-mode: \"form\" }\n",
        "Your_Name = \"Krystian Confeiteiro\" # @param {type:\"string\"}"
      ],
      "metadata": {
        "id": "1hb-tr9jj4Fd"
      },
      "execution_count": 1,
      "outputs": []
    },
    {
      "cell_type": "markdown",
      "metadata": {
        "id": "vWPUD3QLjbO3"
      },
      "source": [
        "# Building a Star"
      ]
    },
    {
      "cell_type": "code",
      "execution_count": null,
      "metadata": {
        "collapsed": true,
        "id": "n5bw17B7jbO6"
      },
      "outputs": [],
      "source": [
        "%matplotlib inline\n",
        "import numpy as np\n",
        "import matplotlib.pyplot as plt\n",
        "import math\n",
        "\n",
        "def plot_star(\n",
        "    *data,\n",
        "    title,\n",
        "    xlabel=None,\n",
        "    ylabel=None,\n",
        "    save_as=None\n",
        "):\n",
        "    fig, axes = plt.subplots()\n",
        "    axes.plot(*data)\n",
        "    axes.set_title(title)\n",
        "    axes.set_ylabel(ylabel)\n",
        "    axes.set_xlabel(xlabel)\n",
        "\n",
        "    if save_as:\n",
        "        fig.savefig(save_as)\n",
        "\n",
        "# start, stop, & range\n",
        "start, end = 0, 1\n",
        "rad_star = np.arange(start, end, 0.01)\n",
        "\n",
        "## mass & gravity equations, and constant density\n",
        "density = lambda\n",
        "mass =\n",
        "grav =\n",
        "\n",
        "# plot\n",
        "fig1, axes1 = plt.subplots()\n",
        "axes1.plot(rad_star, mass)\n",
        "axes1.plot(rad_star, mass)\n",
        "axes1.plot()\n",
        "\n",
        "# decreasing density stat\n",
        "start_dec, end_dec = 1, 10\n",
        "rad_star_dec = np.arange(start_dec, end_dec, 0.01)\n",
        "\n",
        "# functions for decreasing density\n",
        "mass_dec =\n",
        "grav_dec =\n",
        "rho_dec =\n",
        "press_dec =\n",
        "epot_dec =\n",
        "\n",
        "# final plotting - normalized equations for variable equations\n",
        "fig2 = plt.figure()\n",
        "axes = fig2.add_subplot(111)\n",
        "\n",
        "axes.plot(rad_star_dec, rho_dec, \"r\", label=\"Density\")\n",
        "axes.plot(rad_star_dec, mass_dec, \"b\", label=\"Mass\")\n",
        "axes.plot(rad_star_dec, grav_dec, \"g\", label=\"Gravity\")\n",
        "axes.plot(rad_star_dec, press_dec, \"m\", label=\"Pressure\")\n",
        "\n",
        "axes.set_title(\"\")\n",
        "axes.set_xlabel(\"\")\n",
        "axes.set_ylabel(\"\")\n",
        "\n",
        "axes.legend(loc='best')\n",
        "plt.show()\n",
        "\n"
      ]
    },
    {
      "cell_type": "code",
      "execution_count": null,
      "metadata": {
        "collapsed": true,
        "id": "t5JC4b-djbO8"
      },
      "outputs": [],
      "source": [
        "# fig = plt.figure()\n",
        "# ax1 = fig.add_subplot(111)\n",
        "# ax2 = ax1.twinx()\n",
        "# ax1.plot(rad_star,mass, 'b-')\n",
        "# ax2.plot(rad_star,grav, 'r-')\n",
        "\n",
        "# ax1.set_title(\"Stellar Interior of Star with constant density\")\n",
        "# ax1.set_ylabel('Mass ($M/M_{*}$)', color='blue')\n",
        "# ax2.set_ylabel('Gravity ($g/g_{surface}$)', color='red')\n",
        "# ax1.set_xlabel('Radius ($r/R_{*}$)')\n",
        "\n",
        "# plt.show()"
      ]
    }
  ],
  "metadata": {
    "kernelspec": {
      "display_name": "Python 3",
      "language": "python",
      "name": "python3"
    },
    "language_info": {
      "codemirror_mode": {
        "name": "ipython",
        "version": 3
      },
      "file_extension": ".py",
      "mimetype": "text/x-python",
      "name": "python",
      "nbconvert_exporter": "python",
      "pygments_lexer": "ipython3",
      "version": "3.6.1"
    },
    "colab": {
      "provenance": [],
      "include_colab_link": true
    }
  },
  "nbformat": 4,
  "nbformat_minor": 0
}