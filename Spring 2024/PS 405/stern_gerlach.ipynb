{
 "cells": [
  {
   "cell_type": "markdown",
   "metadata": {
    "collapsed": false,
    "deletable": false,
    "editable": false,
    "nbgrader": {
     "grade": false,
     "grade_id": "460efc",
     "locked": true,
     "schema_version": 3,
     "solution": false,
     "task": false
    }
   },
   "source": [
    "## Stern\\-Gerlach Experiment Theory and Calculations\n",
    "\n"
   ]
  },
  {
   "cell_type": "markdown",
   "metadata": {
    "collapsed": false,
    "deletable": false,
    "editable": false,
    "nbgrader": {
     "grade": false,
     "grade_id": "8397b5",
     "locked": true,
     "schema_version": 3,
     "solution": false,
     "task": false
    }
   },
   "source": [
    "<span style='font-size:large'>**Example:**</span><span style='font-size:large'> A beam of hydrogen atoms, emitted from an oven running at a </span><span style='font-size:large'>**temperature of 400 K**</span><span style='font-size:large'>, is sent through a Stern\\-Gerlach magnet of </span><span style='font-size:large'>**length X = 1 m**</span><span style='font-size:large'>. The atoms experience a </span><span style='font-size:large'>**magnetic field with a gradient of 10 T/m**</span><span style='font-size:large'>.  Calculate the transverse \\(z\\-axis\\) deflection of a typical atom in each component of the beam, due to the force exerted on its spin magnetic dipole moment, at the point where the beam leaves the magnet.</span>\n",
    "\n",
    "<img src=\"images/ER_Figure_5.7_SG_magnet.png\"  alt=\"Image Description\"/>\n",
    "<img src=\"images/ER_Figure_8-6_stern_gerlach_observed.png\"  alt=\"Image Description\"/>\n",
    "\n"
   ]
  },
  {
   "cell_type": "markdown",
   "metadata": {
    "collapsed": false
   },
   "source": [
    "<span style='font-size:large'>The net force on the hydrogen atoms is</span>\n",
    "\n",
    "### $\\bar{F_z} = -(\\partial B_z/\\partial z)\\mu_b g_s m_s$\n",
    "\n",
    "<span style='font-size:large'>where </span>$m_s = \\pm\\frac{1}{2}$<span style='font-size:large'> is the spin magnetic quantum number and </span>$g_s$ is the _spin g factor_ where $g_s = 2$.\n",
    "\n",
    "$\\mu_b$<span style='font-size:large'> is the Bohr magneton which relates the electrons spin angular momenum to its magnetic dipole moment,</span>\n",
    "\n",
    "### $\\vec{\\mu_s} = -\\frac{g_s\\mu_b}{\\hbar}{\\vec S}$<span style='font-size:large'> </span>\n",
    "\n",
    "<span style='font-size:large'>The potential energy of orientation between the magnetic dipole moment, </span>$\\vec{\\mu_s}$<span style='font-size:large'>, and the magnetic field, </span>$\\vec{B}$<span style='font-size:large'> is</span>\n",
    "\n",
    "### $U= -\\vec{\\mu_s}\\cdot \\vec{B} = -\\mu_{s_x}B_x-\\mu_{s_y}B_y-\\mu_{s_z}B_z$\n",
    "\n",
    "<span style='font-size:large'>The force is derived from the potential,</span>\n",
    "\n",
    "### $\\vec{F} = -\\nabla U = \\mu_{s_z}\\frac{\\partial B_z}{\\partial z}\\hat{z}$\n",
    "\n",
    "<span style='font-size:large'>since the B\\-field has no gradient in the x and y directions.</span>\n",
    "\n",
    "### $\\mu_{s_z} = - \\frac{g_s\\mu_b}{\\hbar}m_{s_z}\\hbar= -g_s\\mu_bm_{s_z}$\n",
    "\n",
    "<span style='font-size:large'>where </span>$m_{s_z} = \\pm\\frac{1}{2}$<span style='font-size:large'>, so the magnitude of the constant force is </span>\n",
    "\n",
    "### $F_z = -g_s\\mu_b(\\pm\\frac{1}{2})\\frac{\\partial B_z}{\\partial z} = \\pm\\mu_b\\frac{\\partial B_z}{\\partial z}$\n",
    "\n"
   ]
  },
  {
   "cell_type": "markdown",
   "metadata": {
    "collapsed": false,
    "deletable": false,
    "editable": false,
    "nbgrader": {
     "grade": false,
     "grade_id": "c0cab6",
     "locked": true,
     "schema_version": 3,
     "solution": false,
     "task": false
    }
   },
   "source": [
    "## Read in constants and units\n",
    "\n"
   ]
  },
  {
   "cell_type": "code",
   "execution_count": 4,
   "metadata": {
    "collapsed": false,
    "deletable": false,
    "editable": false,
    "nbgrader": {
     "grade": false,
     "grade_id": "fc6a41",
     "locked": true,
     "schema_version": 3,
     "solution": false,
     "task": false
    }
   },
   "outputs": [],
   "source": [
    "from astropy import constants as const\n",
    "from astropy import units as u\n",
    "import matplotlib.pyplot as plt\n",
    "import numpy as np"
   ]
  },
  {
   "cell_type": "markdown",
   "metadata": {
    "collapsed": false,
    "deletable": false,
    "editable": false,
    "nbgrader": {
     "grade": false,
     "grade_id": "d87b2d",
     "locked": true,
     "schema_version": 3,
     "solution": false,
     "task": false
    }
   },
   "source": [
    "### <span style='font-size:large'>Kinetic theory says that an atom emitted by the oven has a kinetic energy of </span>$2kT$.\n",
    "\n",
    "#### Calculate the speed of the hydrogen atoms,\"vx\"\\(in m/s\\), from this oven along the X\\-axis of the magnet.\n",
    "\n",
    "### $\\frac{1}{2}Mv_x = 2 kT$\n",
    "\n"
   ]
  },
  {
   "cell_type": "code",
   "execution_count": 23,
   "metadata": {
    "collapsed": false,
    "deletable": false,
    "nbgrader": {
     "checksum": "9ccb28fb0352daed45b01dce36096f4d",
     "grade": false,
     "grade_id": "fb37b2",
     "locked": false,
     "schema_version": 3,
     "solution": true,
     "task": false
    }
   },
   "outputs": [
    {
     "name": "stdout",
     "output_type": "stream",
     "text": [
      "3634.1490903319236 m / s\n"
     ]
    }
   ],
   "source": [
    "# constants\n",
    "T = 400 * u.K # kelvin\n",
    "\n",
    "# calculate vx\n",
    "vx = (np.sqrt((4 * const.k_B * T) / const.m_p)).to(\"m/s\")\n",
    "print(vx)"
   ]
  },
  {
   "cell_type": "code",
   "execution_count": 24,
   "metadata": {
    "collapsed": false,
    "deletable": false,
    "editable": false,
    "nbgrader": {
     "grade": true,
     "grade_id": "bbf365",
     "locked": true,
     "points": 1,
     "schema_version": 3,
     "solution": false,
     "task": false
    }
   },
   "outputs": [
    {
     "name": "stdout",
     "output_type": "stream",
     "text": [
      "It works!\n"
     ]
    }
   ],
   "source": [
    "#Run this cell to test your velocity\n",
    "correct=[3634.1491]\n",
    "\n",
    "if 'vx' in globals():\n",
    "    if (abs(correct-vx.value) < 1e-4):\n",
    "        print(\"It works!\")\n",
    "    else:\n",
    "        raise ValueError('something is wrong, check your code')\n",
    "else:\n",
    "    raise ValueError('variable \"vx\" is not defined!')\n"
   ]
  },
  {
   "cell_type": "markdown",
   "metadata": {
    "collapsed": false,
    "deletable": false,
    "editable": false,
    "nbgrader": {
     "grade": false,
     "grade_id": "db8bad",
     "locked": true,
     "schema_version": 3,
     "solution": false,
     "task": false
    }
   },
   "source": [
    "#### Calculate how much time \"t\" \\(in milliseconds\\) the atom spends inside the X=1 meter\\-long magnet at this speed\n",
    "\n"
   ]
  },
  {
   "cell_type": "code",
   "execution_count": 39,
   "metadata": {
    "collapsed": false,
    "deletable": false,
    "nbgrader": {
     "checksum": "8153b9e976f9a5c427117f7191cbbb17",
     "grade": false,
     "grade_id": "06c0ab",
     "locked": false,
     "schema_version": 3,
     "solution": true,
     "task": false
    }
   },
   "outputs": [
    {
     "name": "stdout",
     "output_type": "stream",
     "text": [
      "0.2751675770981276 ms\n"
     ]
    }
   ],
   "source": [
    "t = ((1 * u.m) / vx).to(\"ms\")\n",
    "print(time)"
   ]
  },
  {
   "cell_type": "code",
   "execution_count": 40,
   "metadata": {
    "collapsed": false,
    "deletable": false,
    "editable": false,
    "nbgrader": {
     "grade": true,
     "grade_id": "43eb28",
     "locked": true,
     "points": 1,
     "schema_version": 3,
     "solution": false,
     "task": false
    }
   },
   "outputs": [
    {
     "name": "stdout",
     "output_type": "stream",
     "text": [
      "It works!\n"
     ]
    }
   ],
   "source": [
    "#Run this cell to test your velocity\n",
    "\n",
    "correct=[0.27516758]\n",
    "\n",
    "if 't' in globals():\n",
    "    if (abs(correct-t.value) < 1e-4):\n",
    "        print(\"It works!\")\n",
    "    else:\n",
    "        raise ValueError('something is wrong, check your code')\n",
    "else:\n",
    "    raise ValueError('variable \"t\" is not defined!')"
   ]
  },
  {
   "cell_type": "markdown",
   "metadata": {
    "collapsed": false,
    "deletable": false,
    "editable": false,
    "nbgrader": {
     "grade": false,
     "grade_id": "508e8e",
     "locked": true,
     "schema_version": 3,
     "solution": false,
     "task": false
    }
   },
   "source": [
    "#### Calculate the force \"Fz\" \\(in N\\) on the atom from the electron's magnetic dipole and the gradient in the magentic field.\n",
    "\n"
   ]
  },
  {
   "cell_type": "code",
   "execution_count": null,
   "metadata": {
    "collapsed": false,
    "deletable": false,
    "nbgrader": {
     "checksum": "c5128ee001e778212ebfcf56ff207319",
     "grade": false,
     "grade_id": "570c3e",
     "locked": false,
     "schema_version": 3,
     "solution": true,
     "task": false
    }
   },
   "outputs": [],
   "source": []
  },
  {
   "cell_type": "code",
   "execution_count": null,
   "metadata": {
    "collapsed": false,
    "deletable": false,
    "editable": false,
    "nbgrader": {
     "grade": true,
     "grade_id": "6a1cbd",
     "locked": true,
     "points": 1,
     "schema_version": 3,
     "solution": false,
     "task": false
    }
   },
   "outputs": [],
   "source": [
    "#Run this cell to test your velocity\n",
    "\n",
    "correct=[9.2740100783e-23]\n",
    "\n",
    "if 't' in globals():\n",
    "    if (abs(correct-Fz.value) < 1e-4):\n",
    "        print(\"It works!\")\n",
    "    else:\n",
    "        raise ValueError('something is wrong, check your code')\n",
    "else:\n",
    "    raise ValueError('variable \"Fz\" is not defined!')"
   ]
  },
  {
   "cell_type": "markdown",
   "metadata": {
    "collapsed": false,
    "deletable": false,
    "editable": false,
    "nbgrader": {
     "grade": false,
     "grade_id": "4d3f17",
     "locked": true,
     "schema_version": 3,
     "solution": false,
     "task": false
    }
   },
   "source": [
    "#### Calculate the displacement, \"Z\" \\(in m\\), of the atom at constant acceleration while inside the magnet.\n",
    "\n"
   ]
  },
  {
   "cell_type": "code",
   "execution_count": 5,
   "metadata": {
    "collapsed": false,
    "deletable": false,
    "nbgrader": {
     "checksum": "a4042ee962344b58a23c78fd2fde8085",
     "grade": false,
     "grade_id": "4f9ccd",
     "locked": false,
     "schema_version": 3,
     "solution": true,
     "task": false
    }
   },
   "outputs": [
    {
     "ename": "NameError",
     "evalue": "name 'Fz' is not defined",
     "output_type": "error",
     "traceback": [
      "\u001b[0;31m---------------------------------------------------------------------------\u001b[0m",
      "\u001b[0;31mNameError\u001b[0m                                 Traceback (most recent call last)",
      "\u001b[0;32m/tmp/ipykernel_800/1910567854.py\u001b[0m in \u001b[0;36m<cell line: 1>\u001b[0;34m()\u001b[0m\n\u001b[0;32m----> 1\u001b[0;31m \u001b[0maz\u001b[0m \u001b[0;34m=\u001b[0m \u001b[0mFz\u001b[0m \u001b[0;34m/\u001b[0m \u001b[0mM\u001b[0m\u001b[0;34m\u001b[0m\u001b[0;34m\u001b[0m\u001b[0m\n\u001b[0m\u001b[1;32m      2\u001b[0m \u001b[0mz\u001b[0m \u001b[0;34m=\u001b[0m \u001b[0;34m(\u001b[0m\u001b[0;36m0.5\u001b[0m \u001b[0;34m*\u001b[0m \u001b[0maz\u001b[0m \u001b[0;34m*\u001b[0m \u001b[0mt\u001b[0m\u001b[0;34m**\u001b[0m\u001b[0;36m2\u001b[0m\u001b[0;34m)\u001b[0m\u001b[0;34m.\u001b[0m\u001b[0mto\u001b[0m\u001b[0;34m(\u001b[0m\u001b[0;34m\"mm\"\u001b[0m\u001b[0;34m)\u001b[0m\u001b[0;34m\u001b[0m\u001b[0;34m\u001b[0m\u001b[0m\n",
      "\u001b[0;31mNameError\u001b[0m: name 'Fz' is not defined"
     ]
    }
   ],
   "source": [
    "az = Fz / M\n",
    "z = (0.5 * az * t**2).to(\"mm\")"
   ]
  },
  {
   "cell_type": "code",
   "execution_count": null,
   "metadata": {
    "collapsed": false,
    "deletable": false,
    "editable": false,
    "nbgrader": {
     "grade": true,
     "grade_id": "2618ef",
     "locked": true,
     "points": 1,
     "remove": false,
     "schema_version": 3,
     "solution": false,
     "task": false
    }
   },
   "outputs": [],
   "source": [
    "#Run this cell to test your velocity\n",
    "\n",
    "correct=[0.0020991057]\n",
    "\n",
    "if 't' in globals():\n",
    "    if (abs(correct-Z.value) < 1e-4):\n",
    "        print(\"It works!\")\n",
    "    else:\n",
    "        raise ValueError('something is wrong, check your code')\n",
    "else:\n",
    "    raise ValueError('variable \"Z\" is not defined!')"
   ]
  },
  {
   "cell_type": "markdown",
   "metadata": {
    "collapsed": false,
    "deletable": false,
    "editable": false,
    "nbgrader": {
     "grade": false,
     "grade_id": "93e19d",
     "locked": true,
     "schema_version": 3,
     "solution": false,
     "task": false
    }
   },
   "source": [
    "#### The seperation of the hydrogen beams will be twice this value.\n",
    "\n"
   ]
  },
  {
   "cell_type": "markdown",
   "metadata": {
    "collapsed": false,
    "deletable": false,
    "editable": false,
    "nbgrader": {
     "grade": false,
     "grade_id": "8b4727",
     "locked": true,
     "schema_version": 3,
     "solution": false,
     "task": false
    }
   },
   "source": [
    "#### The original Stern\\-Gerlach experiment had a  $1000^{\\circ}$ C oven with silver atoms and a magnetic field gradient of 10 T/cm with a 3.5 cm\\-long magnet.\n",
    "\n",
    "#### Can you reproduce the 0.2 mm splitting of the silver beam as reported in the Physics Today article?\n",
    "\n",
    "<img src=\"images/SG_post_card.png\"  alt=\"Image Description\"/>"
   ]
  },
  {
   "cell_type": "code",
   "execution_count": null,
   "metadata": {
    "collapsed": false,
    "deletable": false,
    "nbgrader": {
     "checksum": "62d3846c35fda62fcaee213708173067",
     "grade": false,
     "grade_id": "0b63b6",
     "locked": false,
     "schema_version": 3,
     "solution": true,
     "task": false
    }
   },
   "outputs": [],
   "source": [
    "# YOUR CODE HERE\n",
    "raise NotImplementedError()"
   ]
  },
  {
   "cell_type": "markdown",
   "metadata": {
    "collapsed": false,
    "deletable": false,
    "editable": false,
    "nbgrader": {
     "grade": false,
     "grade_id": "f54d13",
     "locked": true,
     "schema_version": 3,
     "solution": false,
     "task": false
    }
   },
   "source": [
    "#### That's it!\n",
    "\n"
   ]
  }
 ],
 "metadata": {
  "kernelspec": {
   "argv": [
    "/usr/bin/python3",
    "-m",
    "ipykernel",
    "--HistoryManager.enabled=False",
    "--matplotlib=inline",
    "-c",
    "%config InlineBackend.figure_formats = set(['retina'])\nimport matplotlib; matplotlib.rcParams['figure.figsize'] = (12, 7)",
    "-f",
    "{connection_file}"
   ],
   "display_name": "Python 3 (system-wide)",
   "env": {},
   "language": "python",
   "metadata": {
    "cocalc": {
     "description": "Python 3 programming language",
     "priority": 100,
     "url": "https://www.python.org/"
    }
   },
   "name": "python3",
   "resource_dir": "/ext/jupyter/kernels/python3"
  },
  "language_info": {
   "codemirror_mode": {
    "name": "ipython",
    "version": 3
   },
   "file_extension": ".py",
   "mimetype": "text/x-python",
   "name": "python",
   "nbconvert_exporter": "python",
   "pygments_lexer": "ipython3",
   "version": "3.10.12"
  },
  "nbgrader": {
   "__altered": false,
   "__hash": 462996227,
   "_root": {
    "entries": [
     [
      "size",
      6
     ],
     [
      "_root",
      {
       "entries": [
        [
         "size",
         6
        ],
        [
         "_root",
         {
          "entries": [
           [
            "size",
            1
           ],
           [
            "_root",
            {
             "entries": [
              [
               "cocalc_minimal_stubs",
               false
              ]
             ],
             "ownerID": {}
            }
           ],
           [
            "__ownerID",
            null
           ],
           [
            "__hash",
            -335098374
           ],
           [
            "__altered",
            false
           ],
           [
            "cocalc_minimal_stubs",
            false
           ]
          ],
          "ownerID": {}
         }
        ],
        [
         "__ownerID",
         null
        ],
        [
         "__hash",
         633336276
        ],
        [
         "__altered",
         false
        ],
        [
         "cocalc_minimal_stubs",
         false
        ]
       ],
       "ownerID": {}
      }
     ],
     [
      "__ownerID",
      null
     ],
     [
      "__hash",
      -341060574
     ],
     [
      "__altered",
      false
     ],
     [
      "cocalc_minimal_stubs",
      false
     ]
    ],
    "ownerID": {}
   },
   "cocalc_minimal_stubs": false,
   "size": 6
  }
 },
 "nbformat": 4,
 "nbformat_minor": 4
}
